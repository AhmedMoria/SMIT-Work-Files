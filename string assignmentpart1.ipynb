{
 "cells": [
  {
   "cell_type": "raw",
   "id": "d8e15230-5be0-42da-8160-fae9a8b47f44",
   "metadata": {},
   "source": [
    ". Write a program that accepts a string from user. Your program should count and display number of\n",
    "vowels in that string.\n"
   ]
  },
  {
   "cell_type": "code",
   "execution_count": 2,
   "id": "6f05d829-bef9-4a71-ac5d-e2ce3996030d",
   "metadata": {},
   "outputs": [
    {
     "name": "stdin",
     "output_type": "stream",
     "text": [
      "Enter a string:  aeiou\n"
     ]
    },
    {
     "name": "stdout",
     "output_type": "stream",
     "text": [
      "The number of vowels in the string is: 5\n"
     ]
    }
   ],
   "source": [
    "def count_vowels(input_string):\n",
    "    vowels = \"aeiouAEIOU\"\n",
    "    vowel_count = 0\n",
    "    for vivo in input_string:\n",
    "        if vivo in vowels:\n",
    "            vowel_count += 1\n",
    "    return vowel_count\n",
    "user_input = input(\"Enter a string: \")\n",
    "vowel_count = count_vowels(user_input)\n",
    "print(f\"The number of vowels in the string is: {vowel_count}\")\n"
   ]
  },
  {
   "cell_type": "raw",
   "id": "a4fb10fe-a5d6-458d-9961-3a6922dc9649",
   "metadata": {},
   "source": [
    "Write a program that reads a string from keyboard and display:\n",
    "* The number of uppercase letters in the string\n",
    "* The number of lowercase letters in the string\n",
    "* The number of digits in the string\n",
    "* The number of whitespace characters in the string"
   ]
  },
  {
   "cell_type": "code",
   "execution_count": 3,
   "id": "9575747c-32c0-453d-a707-c7794caed000",
   "metadata": {},
   "outputs": [
    {
     "name": "stdin",
     "output_type": "stream",
     "text": [
      "Enter a string:  as\n"
     ]
    },
    {
     "name": "stdout",
     "output_type": "stream",
     "text": [
      "Number of uppercase letters: 0\n",
      "Number of lowercase letters: 2\n",
      "Number of digits: 0\n",
      "Number of whitespace characters: 0\n"
     ]
    }
   ],
   "source": [
    "def count_characters(input_string):\n",
    "    uppercase_count = 0\n",
    "    lowercase_count = 0\n",
    "    digit_count = 0\n",
    "    whitespace_count = 0\n",
    "    for tecno in input_string:\n",
    "        if tecno.isupper():\n",
    "            uppercase_count += 1  \n",
    "        elif tecno.islower():\n",
    "            lowercase_count += 1  \n",
    "        elif tecno.isdigit():\n",
    "            digit_count += 1  \n",
    "        elif tecno.isspace():\n",
    "            whitespace_count += 1 \n",
    "    return uppercase_count, lowercase_count, digit_count, whitespace_count\n",
    "user_input = input(\"Enter a string: \")\n",
    "uppercase, lowercase, digits, whitespaces = count_characters(user_input)\n",
    "print(f\"Number of uppercase letters: {uppercase}\")\n",
    "print(f\"Number of lowercase letters: {lowercase}\")\n",
    "print(f\"Number of digits: {digits}\")\n",
    "print(f\"Number of whitespace characters: {whitespaces}\")\n"
   ]
  },
  {
   "cell_type": "raw",
   "id": "888a0a85-7334-4b1a-ab86-4d551a8e4449",
   "metadata": {},
   "source": [
    "Write a Python program that accepts a string from user. Your program should create and display a\n",
    "new string where the first and last characters have been exchanged. \n"
   ]
  },
  {
   "cell_type": "code",
   "execution_count": 20,
   "id": "3950dc21-2ca9-4a47-99f6-062ff20be9f5",
   "metadata": {},
   "outputs": [
    {
     "name": "stdin",
     "output_type": "stream",
     "text": [
      "Enter a string:  hello\n"
     ]
    },
    {
     "name": "stdout",
     "output_type": "stream",
     "text": [
      "The new string with swapped first and last characters is: oellh\n"
     ]
    }
   ],
   "source": [
    "def swap_first_last(input_string):\n",
    "    if len(input_string) < 2:\n",
    "        return input_string\n",
    "    else:# S\n",
    "        swapped_string = input_string[-1] + input_string[1:-1] + input_string[0]\n",
    "        return swapped_string\n",
    "user_input = input(\"Enter a string: \")\n",
    "new_string = swap_first_last(user_input)\n",
    "print(f\"The new string with swapped first and last characters is: {new_string}\")"
   ]
  },
  {
   "cell_type": "raw",
   "id": "53d39da2-97f6-4249-8bb9-698ada532ae2",
   "metadata": {},
   "source": [
    "Write a Python program that accepts a string from user. Your program should create a new string in\n",
    "reverse of first string and display it"
   ]
  },
  {
   "cell_type": "code",
   "execution_count": 22,
   "id": "68964f43-9ac5-406e-b1d0-44be557361df",
   "metadata": {},
   "outputs": [
    {
     "name": "stdin",
     "output_type": "stream",
     "text": [
      "Enter a string:  exam\n"
     ]
    },
    {
     "name": "stdout",
     "output_type": "stream",
     "text": [
      "The reversed string is: maxe\n"
     ]
    }
   ],
   "source": [
    "def reverse_string(input_string):\n",
    "    return input_string[::-1] \n",
    "user_input = input(\"Enter a string: \")\n",
    "reversed_string = reverse_string(user_input)\n",
    "print(f\"The reversed string is: {reversed_string}\")\n"
   ]
  },
  {
   "cell_type": "raw",
   "id": "3521461a-62fb-4a7a-ad80-f85f967a152c",
   "metadata": {},
   "source": [
    "Write a Python program that accepts a string from user. Your program should create a new string by\n",
    "shifting one position to left"
   ]
  },
  {
   "cell_type": "code",
   "execution_count": 23,
   "id": "3718d7b0-e4bf-4467-9dec-90ce96da8b58",
   "metadata": {},
   "outputs": [
    {
     "name": "stdin",
     "output_type": "stream",
     "text": [
      "Enter a string:  examination 2021\n"
     ]
    },
    {
     "name": "stdout",
     "output_type": "stream",
     "text": [
      "The string after shifting one position to the left is: xamination 2021e\n"
     ]
    }
   ],
   "source": [
    "def shift_left(input_string):\n",
    "    if len(input_string) > 1:\n",
    "        return input_string[1:] + input_string[0]\n",
    "    else:\n",
    "        return input_string\n",
    "user_input = input(\"Enter a string: \")\n",
    "shifted_string = shift_left(user_input)\n",
    "print(f\"The string after shifting one position to the left is: {shifted_string}\")\n"
   ]
  },
  {
   "cell_type": "raw",
   "id": "cba38158-2cee-4066-8369-c3348d451b8f",
   "metadata": {},
   "source": [
    "Write a program that asks the user to input his name and print its initials. Assuming that the user\n",
    "always types first name, middle name and last name and does not include any unnecessary spaces. "
   ]
  },
  {
   "cell_type": "code",
   "execution_count": 24,
   "id": "6dad1c33-7580-4138-9f82-6862080c5070",
   "metadata": {},
   "outputs": [
    {
     "name": "stdin",
     "output_type": "stream",
     "text": [
      "Enter your full name (first middle last):  Ahmed Hasnain Moria\n"
     ]
    },
    {
     "name": "stdout",
     "output_type": "stream",
     "text": [
      "Your initials are: A.H.M.\n"
     ]
    }
   ],
   "source": [
    "def get_initials(full_name):\n",
    "    name_parts = full_name.split()\n",
    "    initials = [part[0].upper() for part in name_parts]\n",
    "    return '.'.join(initials) + '.'\n",
    "user_name = input(\"Enter your full name (first middle last): \")\n",
    "initials = get_initials(user_name)\n",
    "print(f\"Your initials are: {initials}\")\n"
   ]
  },
  {
   "cell_type": "code",
   "execution_count": 26,
   "id": "23c88973-d8fe-4eb6-9167-b64bfd42dcc6",
   "metadata": {},
   "outputs": [
    {
     "name": "stdin",
     "output_type": "stream",
     "text": [
      "Enter a string:  GJFDUDFGDT\n"
     ]
    },
    {
     "name": "stdout",
     "output_type": "stream",
     "text": [
      "'GJFDUDFGDT' is not a palindrome.\n"
     ]
    }
   ],
   "source": [
    "def is_palindrome(input_string):\n",
    "    input_string = input_string.replace(\" \", \"\").lower()\n",
    "    length = len(input_string)\n",
    "    for i in range(length // 2):\n",
    "        if input_string[i] != input_string[length - 1 - i]:\n",
    "            return False \n",
    "    return True \n",
    "user_input = input(\"Enter a string: \")\n",
    "if is_palindrome(user_input):\n",
    "    print(f\"'{user_input}' is a palindrome.\")\n",
    "else:\n",
    "    print(f\"'{user_input}' is not a palindrome.\")\n"
   ]
  },
  {
   "cell_type": "raw",
   "id": "00d643ba-0555-4489-95bf-dd22e65be0f5",
   "metadata": {},
   "source": [
    "Write a program that display following output:\n",
    "SHIFT\n",
    "HIFTS\n",
    "IFTSH\n",
    "FTSHI\n",
    "TSHIF\n",
    "SHIFT \n"
   ]
  },
  {
   "cell_type": "code",
   "execution_count": 32,
   "id": "010e24d5-d68a-46d5-b933-e48778d71834",
   "metadata": {},
   "outputs": [
    {
     "name": "stdout",
     "output_type": "stream",
     "text": [
      "SHIFT\n",
      "HIFTS\n",
      "IFTSH\n",
      "FTSHI\n",
      "TSHIF\n"
     ]
    }
   ],
   "source": [
    "def shift_string(s):\n",
    "    for i in range(len(s)):\n",
    "        shifted = s[i:] + s[:i]\n",
    "        print(shifted)\n",
    "word = \"SHIFT\"\n",
    "shift_string(word)\n"
   ]
  },
  {
   "cell_type": "raw",
   "id": "d11fa8a9-efb8-49ac-9c5b-532414f503dd",
   "metadata": {},
   "source": [
    "Write a program in python that accepts a string to setup a passwords. Your entered password must\n",
    "meet the following requirements:\n",
    "The password must be at least eight characters long.\n",
    "It must contain at least one uppercase letter.\n",
    "It must contain at least one lowercase letter.\n",
    "It must contain at least one numeric digit.\n",
    "Your program should should perform this validation. "
   ]
  },
  {
   "cell_type": "code",
   "execution_count": 33,
   "id": "f9fc77a4-a0dc-4dae-a88e-53fea1ccfb42",
   "metadata": {},
   "outputs": [
    {
     "name": "stdin",
     "output_type": "stream",
     "text": [
      "Enter your password:  dheduighfi\n"
     ]
    },
    {
     "name": "stdout",
     "output_type": "stream",
     "text": [
      "Password must contain at least one uppercase letter.\n"
     ]
    }
   ],
   "source": [
    "import re  \n",
    "def validate_password(password):\n",
    "    if len(password) < 8:\n",
    "        return \"Password must be at least 8 characters long.\"\n",
    "    elif not re.search(r'[A-Z]', password): \n",
    "        return \"Password must contain at least one uppercase letter.\"\n",
    "    elif not re.search(r'[a-z]', password): \n",
    "        return \"Password must contain at least one lowercase letter.\"\n",
    "    elif not re.search(r'\\d', password):  \n",
    "        return \"Password must contain at least one numeric digit.\"\n",
    "    else:\n",
    "        return \"Password is valid.\"\n",
    "user_password = input(\"Enter your password: \")\n",
    "validation_result = validate_password(user_password)\n",
    "print(validation_result)\n",
    "\n"
   ]
  },
  {
   "cell_type": "code",
   "execution_count": null,
   "id": "22963319-ed0e-40a8-81e1-1de60d171381",
   "metadata": {},
   "outputs": [],
   "source": []
  }
 ],
 "metadata": {
  "kernelspec": {
   "display_name": "Python 3 (ipykernel)",
   "language": "python",
   "name": "python3"
  },
  "language_info": {
   "codemirror_mode": {
    "name": "ipython",
    "version": 3
   },
   "file_extension": ".py",
   "mimetype": "text/x-python",
   "name": "python",
   "nbconvert_exporter": "python",
   "pygments_lexer": "ipython3",
   "version": "3.12.7"
  }
 },
 "nbformat": 4,
 "nbformat_minor": 5
}
