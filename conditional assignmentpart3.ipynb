{
 "cells": [
  {
   "cell_type": "raw",
   "id": "40214e99-0f0d-44a5-9ed9-901c48c23c80",
   "metadata": {},
   "source": [
    "Write a program that prompts the user to input a number and display if the number\n",
    "is even or odd."
   ]
  },
  {
   "cell_type": "code",
   "execution_count": 3,
   "id": "dbedbe5b-c3ac-4d6e-82fe-8cca34f0359b",
   "metadata": {},
   "outputs": [
    {
     "name": "stdin",
     "output_type": "stream",
     "text": [
      "Enter a number:  4\n"
     ]
    },
    {
     "name": "stdout",
     "output_type": "stream",
     "text": [
      "The number 4 is even.\n"
     ]
    }
   ],
   "source": [
    "number = int(input(\"Enter a number: \"))\n",
    "if number % 2 == 0:\n",
    "    print(f\"The number {number} is even.\")\n",
    "else:\n",
    "    print(f\"The number {number} is odd.\")"
   ]
  },
  {
   "cell_type": "raw",
   "id": "e25850b9-8c46-4191-9c79-8eff4a6fb684",
   "metadata": {},
   "source": [
    "Write a Python program that takes an age as input and determines whether a person\n",
    "is eligible to vote. If the age is 18 or above, print \"You are eligible to vote.\" Otherwise,\n",
    "print You are not eligible to vote yet."
   ]
  },
  {
   "cell_type": "code",
   "execution_count": 5,
   "id": "ac879317-e111-496b-b036-49f18246ff3e",
   "metadata": {},
   "outputs": [
    {
     "name": "stdin",
     "output_type": "stream",
     "text": [
      "Enter your age:  30\n"
     ]
    },
    {
     "name": "stdout",
     "output_type": "stream",
     "text": [
      "You are eligible to vote.\n"
     ]
    }
   ],
   "source": [
    "age = int(input(\"Enter your age: \"))\n",
    "if age >= 18:\n",
    "    print(\"You are eligible to vote.\")\n",
    "else:\n",
    "    print(\"You are not eligible to vote yet.\")"
   ]
  },
  {
   "cell_type": "raw",
   "id": "f46f8f30-0b54-4783-99dc-6298a21e6ab9",
   "metadata": {},
   "source": [
    "Write a program that prompts the user to input two integers and outputs the largest."
   ]
  },
  {
   "cell_type": "code",
   "execution_count": 6,
   "id": "dd197d95-7a84-4996-8906-e8575ea97a58",
   "metadata": {},
   "outputs": [
    {
     "name": "stdin",
     "output_type": "stream",
     "text": [
      "Enter the first integer:  9\n",
      "Enter the second integer:  0\n"
     ]
    },
    {
     "name": "stdout",
     "output_type": "stream",
     "text": [
      "The largest number is 9.\n"
     ]
    }
   ],
   "source": [
    "num1 = int(input(\"Enter the first integer: \"))\n",
    "num2 = int(input(\"Enter the second integer: \"))\n",
    "if num1 > num2:\n",
    "    print(f\"The largest number is {num1}.\")\n",
    "elif num2 > num1:\n",
    "    print(f\"The largest number is {num2}.\")\n",
    "else:\n",
    "    print(\"Both numbers are equal.\")"
   ]
  },
  {
   "cell_type": "raw",
   "id": "64c69523-c401-4967-b6ff-96717c9f535c",
   "metadata": {},
   "source": [
    "Write a program that prompts the user to enter a number and determines whether it\n",
    "is positive, negative, or zero. The program should print \"Positive\" if the number is\n",
    "greater than 0, \"Negative\" if the number is less than 0, and \"Zero\" if the number is 0. "
   ]
  },
  {
   "cell_type": "code",
   "execution_count": 10,
   "id": "7ff7b728-892e-4c6e-b13c-d52a8729765a",
   "metadata": {},
   "outputs": [
    {
     "name": "stdin",
     "output_type": "stream",
     "text": [
      "Enter a number:  8\n"
     ]
    },
    {
     "name": "stdout",
     "output_type": "stream",
     "text": [
      "Positive\n"
     ]
    }
   ],
   "source": [
    "number = float(input(\"Enter a number: \"))\n",
    "if number > 0:\n",
    "    print(\"Positive\")\n",
    "elif number < 8:\n",
    "    print(\"Negative\")\n",
    "else:\n",
    "    print(\"Zero\")"
   ]
  },
  {
   "cell_type": "raw",
   "id": "d6b8ce33-968e-4ed4-b7a5-c608cef214e3",
   "metadata": {},
   "source": [
    "Write a program that prompts the user to enter their age and prints the\n",
    "corresponding age group. The program should use the following age groups:\n",
    "0-12: Child\n",
    "13-19: Teenager\n",
    "20-59: Adult\n",
    "60 and above: Senior Citizen"
   ]
  },
  {
   "cell_type": "code",
   "execution_count": 2,
   "id": "a761cfd9-875f-4af1-a294-da56039d5138",
   "metadata": {},
   "outputs": [
    {
     "name": "stdin",
     "output_type": "stream",
     "text": [
      "Please enter your age:  7\n"
     ]
    },
    {
     "name": "stdout",
     "output_type": "stream",
     "text": [
      "You are a Child.\n"
     ]
    }
   ],
   "source": [
    "age = int(input(\"Please enter your age: \"))\n",
    "if 0 <= age <= 12:\n",
    "    print(\"You are a Child.\")\n",
    "elif 13 <= age <= 19:\n",
    "    print(\"You are a Teenager.\")\n",
    "elif 20 <= age <= 59:\n",
    "    print(\"You are an Adult.\")\n",
    "elif age >= 60:\n",
    "    print(\"You are a Senior Citizen.\")\n",
    "else:\n",
    "    print(\"Invalid age entered.\")"
   ]
  },
  {
   "cell_type": "raw",
   "id": "2ca5e521-6fcd-40dd-81f2-23d17c2e3504",
   "metadata": {},
   "source": [
    ". Write a program that prompts the user to input a number from 1 to 7. The program\n",
    "should display the corresponding day for the given number. For example, if the user\n",
    "types 1, the output should be Sunday. If the user types 7, the output should be\n",
    "Saturday. If the number is not between 1 to 7 user should get error message as shown\n",
    "in sample output. "
   ]
  },
  {
   "cell_type": "code",
   "execution_count": 3,
   "id": "9272c7bf-7d5a-4ff2-b79c-4ff33d8cf079",
   "metadata": {},
   "outputs": [
    {
     "name": "stdin",
     "output_type": "stream",
     "text": [
      "Please enter a number from 1 to 7:  7\n"
     ]
    },
    {
     "name": "stdout",
     "output_type": "stream",
     "text": [
      "Saturday\n"
     ]
    }
   ],
   "source": [
    "day_number = int(input(\"Please enter a number from 1 to 7: \"))\n",
    "if day_number == 1:\n",
    "    print(\"Sunday\")\n",
    "elif day_number == 2:\n",
    "    print(\"Monday\")\n",
    "elif day_number == 3:\n",
    "    print(\"Tuesday\")\n",
    "elif day_number == 4:\n",
    "    print(\"Wednesday\")\n",
    "elif day_number == 5:\n",
    "    print(\"Thursday\")\n",
    "elif day_number == 6:\n",
    "    print(\"Friday\")\n",
    "elif day_number == 7:\n",
    "    print(\"Saturday\")\n",
    "else:\n",
    "    print(\"Error: Invalid number. Please enter a number between 1 and 7.\")"
   ]
  },
  {
   "cell_type": "raw",
   "id": "996a89e5-3fcc-4b88-ab10-1f38b5f6c6aa",
   "metadata": {},
   "source": [
    ". Write a program that prompts the user to enter their weight (in kilograms) and height\n",
    "(in meters). The program should calculate the Body Mass Index (BMI) using the formula:\n",
    "BMI = weight / (height * height). The program should then classify the BMI into one of\n",
    "the following categories:\n",
    "less than 18.5 - Underweight\n",
    "BMI between 18.5 and 24.9 - Normal weight\n",
    "BMI between 25 and 29.9 - Overweight\n",
    "BMI 30 or greater - Obesity"
   ]
  },
  {
   "cell_type": "code",
   "execution_count": 5,
   "id": "e9998dd7-38af-44b8-ae57-9dae85957bc6",
   "metadata": {},
   "outputs": [
    {
     "name": "stdin",
     "output_type": "stream",
     "text": [
      "Please enter your weight in kilograms:  50\n",
      "Please enter your height in meters:  5\n"
     ]
    },
    {
     "name": "stdout",
     "output_type": "stream",
     "text": [
      "Your BMI is 2.00, which is classified as Underweight.\n"
     ]
    }
   ],
   "source": [
    "weight = float(input(\"Please enter your weight in kilograms: \"))\n",
    "height = float(input(\"Please enter your height in meters: \"))\n",
    "bmi = weight / (height * height)\n",
    "if bmi < 18.5:\n",
    "    print(f\"Your BMI is {bmi:.2f}, which is classified as Underweight.\")\n",
    "elif 18.5 <= bmi < 24.9:\n",
    "    print(f\"Your BMI is {bmi:.2f}, which is classified as Normal weight.\")\n",
    "elif 25 <= bmi < 29.9:\n",
    "    print(f\"Your BMI is {bmi:.2f}, which is classified as Overweight.\")\n",
    "else:\n",
    "    print(f\"Your BMI is {bmi:.2f}, which is classified as Obesity.\")"
   ]
  },
  {
   "cell_type": "raw",
   "id": "f34b78d2-cf8b-4725-a59b-891c5c5f07f4",
   "metadata": {},
   "source": [
    "The marks obtained by a student in 3 different subjects are input by the user. Your\n",
    "program should calculate the average of subjects and display the grade. The student\n",
    "gets a grade as per the following rules:\n",
    "Average Grade\n",
    "90-100 A\n",
    "80-89 B\n",
    "70-79 C\n",
    "60-69 D\n",
    "0-59 F "
   ]
  },
  {
   "cell_type": "code",
   "execution_count": 7,
   "id": "8549e75d-fde8-44ed-a41e-84e782bd893b",
   "metadata": {},
   "outputs": [
    {
     "name": "stdin",
     "output_type": "stream",
     "text": [
      "Enter the marks for subject 1:  80\n",
      "Enter the marks for subject 2:  90\n",
      "Enter the marks for subject 3:  90\n"
     ]
    },
    {
     "name": "stdout",
     "output_type": "stream",
     "text": [
      "The average marks are: 86.67\n",
      "The grade is: B\n"
     ]
    }
   ],
   "source": [
    "subject1 = float(input(\"Enter the marks for subject 1: \"))\n",
    "subject2 = float(input(\"Enter the marks for subject 2: \"))\n",
    "subject3 = float(input(\"Enter the marks for subject 3: \"))\n",
    "average = (subject1 + subject2 + subject3) / 3\n",
    "if 90 <= average <= 100:\n",
    "    grade = 'A'\n",
    "elif 80 <= average < 90:\n",
    "    grade = 'B'\n",
    "elif 70 <= average < 80:\n",
    "    grade = 'C'\n",
    "elif 60 <= average < 70:\n",
    "    grade = 'D'\n",
    "else:\n",
    "    grade = 'F'\n",
    "print(f\"The average marks are: {average:.2f}\")\n",
    "print(f\"The grade is: {grade}\")"
   ]
  },
  {
   "cell_type": "raw",
   "id": "b561c6ad-2cb1-472b-9fce-02c414e81e1f",
   "metadata": {},
   "source": [
    ". The roots of the quadratic equation ax2\n",
    " + bx + c = 0, a ≠ 0 are given by the following\n",
    "formula:\n",
    "In this formula, the term b2\n",
    " - 4ac is called the discriminant. If b2\n",
    " - 4ac = 0, then the\n",
    "equation has two equal roots.\n",
    "If b2\n",
    " - 4ac > 0, the equation has two real roots. If b2\n",
    " - 4ac < 0, the equation has two\n",
    "complex roots"
   ]
  },
  {
   "cell_type": "code",
   "execution_count": 8,
   "id": "4c762848-4e82-4b95-9736-141995fd977e",
   "metadata": {},
   "outputs": [
    {
     "name": "stdin",
     "output_type": "stream",
     "text": [
      "Enter the coefficient a (non-zero):  9\n",
      "Enter the coefficient b:  9\n",
      "Enter the coefficient c:  8\n"
     ]
    },
    {
     "name": "stdout",
     "output_type": "stream",
     "text": [
      "The equation has two complex roots: (-0.5+0.7993052538854533j) and (-0.5-0.7993052538854533j)\n"
     ]
    }
   ],
   "source": [
    "import cmath\n",
    "a = float(input(\"Enter the coefficient a (non-zero): \"))\n",
    "b = float(input(\"Enter the coefficient b: \"))\n",
    "c = float(input(\"Enter the coefficient c: \"))\n",
    "discriminant = b**2 - 4*a*c\n",
    "root1 = (-b + cmath.sqrt(discriminant)) / (2*a)\n",
    "root2 = (-b - cmath.sqrt(discriminant)) / (2*a)\n",
    "if discriminant > 0:\n",
    "    print(f\"The equation has two distinct real roots: {root1.real:.2f} and {root2.real:.2f}\")\n",
    "elif discriminant == 0:\n",
    "    print(f\"The equation has one real root: {root1.real:.2f}\")\n",
    "else:\n",
    "    print(f\"The equation has two complex roots: {root1} and {root2}\")"
   ]
  },
  {
   "cell_type": "raw",
   "id": "018bb69d-95ce-4e23-b6c5-af5ccfd1382d",
   "metadata": {},
   "source": [
    "Write a program that prompts the user to enter three numbers and sorts them in\n",
    "ascending order. The program should print the sorted numbers. "
   ]
  },
  {
   "cell_type": "code",
   "execution_count": 9,
   "id": "af987011-71dd-48a9-b290-a3402a0bfb1d",
   "metadata": {},
   "outputs": [
    {
     "name": "stdin",
     "output_type": "stream",
     "text": [
      "Enter the first number:  1\n",
      "Enter the second number:  4\n",
      "Enter the third number:  8\n"
     ]
    },
    {
     "name": "stdout",
     "output_type": "stream",
     "text": [
      "The numbers in ascending order are: [1.0, 4.0, 8.0]\n"
     ]
    }
   ],
   "source": [
    "num1 = float(input(\"Enter the first number: \"))\n",
    "num2 = float(input(\"Enter the second number: \"))\n",
    "num3 = float(input(\"Enter the third number: \"))\n",
    "numbers = [num1, num2, num3]\n",
    "numbers.sort()\n",
    "print(\"The numbers in ascending order are:\", numbers)"
   ]
  },
  {
   "cell_type": "raw",
   "id": "924f2ea8-7aa4-448a-91f7-22121997bfc0",
   "metadata": {},
   "source": [
    "Write a program that prompts the user to input three integers and outputs the\n",
    "largest. "
   ]
  },
  {
   "cell_type": "code",
   "execution_count": 10,
   "id": "6e91b6aa-92c9-48fd-b5c3-4c613d82a6c3",
   "metadata": {},
   "outputs": [
    {
     "name": "stdin",
     "output_type": "stream",
     "text": [
      "Enter the first integer:  9\n",
      "Enter the second integer:  2103\n",
      "Enter the third integer:  3\n"
     ]
    },
    {
     "name": "stdout",
     "output_type": "stream",
     "text": [
      "The largest number is: 2103\n"
     ]
    }
   ],
   "source": [
    "num1 = int(input(\"Enter the first integer: \"))\n",
    "num2 = int(input(\"Enter the second integer: \"))\n",
    "num3 = int(input(\"Enter the third integer: \"))\n",
    "largest = max(num1, num2, num3)\n",
    "print(f\"The largest number is: {largest}\")"
   ]
  },
  {
   "cell_type": "raw",
   "id": "22966a2e-a77c-4486-a42a-2562ad60dbcf",
   "metadata": {},
   "source": [
    "Write a program that prompts the user to input a character and determine the\n",
    "character is vowel or consonant. "
   ]
  },
  {
   "cell_type": "code",
   "execution_count": 11,
   "id": "b8ee3582-fa99-4a9f-a78f-03263b268ba5",
   "metadata": {},
   "outputs": [
    {
     "name": "stdin",
     "output_type": "stream",
     "text": [
      "Enter a character:  9\n"
     ]
    },
    {
     "name": "stdout",
     "output_type": "stream",
     "text": [
      "Invalid input. Please enter a valid alphabet character.\n"
     ]
    }
   ],
   "source": [
    "char = input(\"Enter a character: \").lower()\n",
    "if char in 'aeiou':\n",
    "    print(f\"The character '{char}' is a vowel.\")\n",
    "elif char.isalpha():\n",
    "    print(f\"The character '{char}' is a consonant.\")\n",
    "else:\n",
    "    print(\"Invalid input. Please enter a valid alphabet character.\")"
   ]
  },
  {
   "cell_type": "raw",
   "id": "6a32c0ad-05b3-4a77-b945-f6edc27a21c8",
   "metadata": {},
   "source": [
    "Write a program that prompts the user to input a year and determine whether the\n",
    "year is a leap year or not.\n",
    "Leap Years are any year that can be evenly divided by 4. A year that is evenly divisible by\n",
    "100 is a leap year only if it is also evenly divisible by 400. Example: "
   ]
  },
  {
   "cell_type": "code",
   "execution_count": 14,
   "id": "790d8246-b6e5-4081-a376-dda34b910a71",
   "metadata": {},
   "outputs": [
    {
     "name": "stdin",
     "output_type": "stream",
     "text": [
      "Enter a year:  1995\n"
     ]
    },
    {
     "name": "stdout",
     "output_type": "stream",
     "text": [
      "1995 is not a leap year.\n"
     ]
    }
   ],
   "source": [
    "year = int(input(\"Enter a year: \"))\n",
    "if (year % 4 == 0 and year % 100 != 0) or (year % 400 == 0):\n",
    "    print(f\"{year} is a leap year.\")\n",
    "else:\n",
    "    print(f\"{year} is not a leap year.\")"
   ]
  },
  {
   "cell_type": "raw",
   "id": "69fb258e-6231-4177-b244-ab5a9f3f5e0c",
   "metadata": {},
   "source": [
    ". Write a program that prompts the user to input number of calls and calculate the\n",
    "monthly telephone bills as per the following rule:\n",
    "Minimum Rs. 200 for up to 100 calls.\n",
    "Plus Rs. 0.60 per call for next 50 calls.\n",
    "Plus Rs. 0.50 per call for next 50 calls.\n",
    "Plus Rs. 0.40 per call for any call beyond 200 calls."
   ]
  },
  {
   "cell_type": "code",
   "execution_count": 15,
   "id": "2a435069-7e9d-4255-9ec1-79bb51d9e521",
   "metadata": {},
   "outputs": [
    {
     "name": "stdin",
     "output_type": "stream",
     "text": [
      "Enter the number of calls made:  8\n"
     ]
    },
    {
     "name": "stdout",
     "output_type": "stream",
     "text": [
      "The total monthly bill is: Rs. 178.20\n"
     ]
    }
   ],
   "source": [
    "calls = int(input(\"Enter the number of calls made: \"))\n",
    "bill = 200  \n",
    "if calls > 100 and calls <= 150:\n",
    "    bill += (calls - 100) * 0.60\n",
    "elif calls > 150 and calls <= 200:\n",
    "    bill += 50 * 0.60  \n",
    "    bill += (calls - 150) * 0.50  \n",
    "else:\n",
    "    bill += 50 * 0.60 \n",
    "    bill += 50 * 0.50  \n",
    "    bill += (calls - 200) * 0.40 \n",
    "print(f\"The total monthly bill is: Rs. {bill:.2f}\")"
   ]
  },
  {
   "cell_type": "code",
   "execution_count": null,
   "id": "0a0a02ce-f916-414d-bb96-ef05e356f8c2",
   "metadata": {},
   "outputs": [],
   "source": []
  }
 ],
 "metadata": {
  "kernelspec": {
   "display_name": "Python 3 (ipykernel)",
   "language": "python",
   "name": "python3"
  },
  "language_info": {
   "codemirror_mode": {
    "name": "ipython",
    "version": 3
   },
   "file_extension": ".py",
   "mimetype": "text/x-python",
   "name": "python",
   "nbconvert_exporter": "python",
   "pygments_lexer": "ipython3",
   "version": "3.12.7"
  }
 },
 "nbformat": 4,
 "nbformat_minor": 5
}
