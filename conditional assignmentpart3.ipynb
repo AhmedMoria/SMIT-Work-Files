{
 "cells": [
  {
   "cell_type": "raw",
   "id": "40214e99-0f0d-44a5-9ed9-901c48c23c80",
   "metadata": {},
   "source": [
    "Write a program that prompts the user to input a number and display if the number\n",
    "is even or odd."
   ]
  },
  {
   "cell_type": "code",
   "execution_count": 3,
   "id": "dbedbe5b-c3ac-4d6e-82fe-8cca34f0359b",
   "metadata": {},
   "outputs": [
    {
     "name": "stdin",
     "output_type": "stream",
     "text": [
      "Enter a number:  4\n"
     ]
    },
    {
     "name": "stdout",
     "output_type": "stream",
     "text": [
      "The number 4 is even.\n"
     ]
    }
   ],
   "source": [
    "number = int(input(\"Enter a number: \"))\n",
    "if number % 2 == 0:\n",
    "    print(f\"The number {number} is even.\")\n",
    "else:\n",
    "    print(f\"The number {number} is odd.\")"
   ]
  },
  {
   "cell_type": "raw",
   "id": "e25850b9-8c46-4191-9c79-8eff4a6fb684",
   "metadata": {},
   "source": [
    "Write a Python program that takes an age as input and determines whether a person\n",
    "is eligible to vote. If the age is 18 or above, print \"You are eligible to vote.\" Otherwise,\n",
    "print You are not eligible to vote yet."
   ]
  },
  {
   "cell_type": "code",
   "execution_count": 5,
   "id": "ac879317-e111-496b-b036-49f18246ff3e",
   "metadata": {},
   "outputs": [
    {
     "name": "stdin",
     "output_type": "stream",
     "text": [
      "Enter your age:  30\n"
     ]
    },
    {
     "name": "stdout",
     "output_type": "stream",
     "text": [
      "You are eligible to vote.\n"
     ]
    }
   ],
   "source": [
    "age = int(input(\"Enter your age: \"))\n",
    "if age >= 18:\n",
    "    print(\"You are eligible to vote.\")\n",
    "else:\n",
    "    print(\"You are not eligible to vote yet.\")"
   ]
  },
  {
   "cell_type": "raw",
   "id": "f46f8f30-0b54-4783-99dc-6298a21e6ab9",
   "metadata": {},
   "source": [
    "Write a program that prompts the user to input two integers and outputs the largest."
   ]
  },
  {
   "cell_type": "code",
   "execution_count": 6,
   "id": "dd197d95-7a84-4996-8906-e8575ea97a58",
   "metadata": {},
   "outputs": [
    {
     "name": "stdin",
     "output_type": "stream",
     "text": [
      "Enter the first integer:  9\n",
      "Enter the second integer:  0\n"
     ]
    },
    {
     "name": "stdout",
     "output_type": "stream",
     "text": [
      "The largest number is 9.\n"
     ]
    }
   ],
   "source": [
    "num1 = int(input(\"Enter the first integer: \"))\n",
    "num2 = int(input(\"Enter the second integer: \"))\n",
    "if num1 > num2:\n",
    "    print(f\"The largest number is {num1}.\")\n",
    "elif num2 > num1:\n",
    "    print(f\"The largest number is {num2}.\")\n",
    "else:\n",
    "    print(\"Both numbers are equal.\")"
   ]
  },
  {
   "cell_type": "raw",
   "id": "64c69523-c401-4967-b6ff-96717c9f535c",
   "metadata": {},
   "source": [
    "Write a program that prompts the user to enter a number and determines whether it\n",
    "is positive, negative, or zero. The program should print \"Positive\" if the number is\n",
    "greater than 0, \"Negative\" if the number is less than 0, and \"Zero\" if the number is 0. "
   ]
  },
  {
   "cell_type": "code",
   "execution_count": 10,
   "id": "7ff7b728-892e-4c6e-b13c-d52a8729765a",
   "metadata": {},
   "outputs": [
    {
     "name": "stdin",
     "output_type": "stream",
     "text": [
      "Enter a number:  8\n"
     ]
    },
    {
     "name": "stdout",
     "output_type": "stream",
     "text": [
      "Positive\n"
     ]
    }
   ],
   "source": [
    "number = float(input(\"Enter a number: \"))\n",
    "if number > 0:\n",
    "    print(\"Positive\")\n",
    "elif number < 8:\n",
    "    print(\"Negative\")\n",
    "else:\n",
    "    print(\"Zero\")"
   ]
  },
  {
   "cell_type": "code",
   "execution_count": null,
   "id": "16cb8915-0e85-4400-9e6e-b7935238fb7c",
   "metadata": {},
   "outputs": [],
   "source": [
    "Write a program that prompts the user to enter their age and prints the\n",
    "corresponding age group. The program should use the following age groups:\n",
    "0-12: Child\n",
    "13-19: Teenager\n",
    "20-59: Adult\n",
    "60 and above: Senior Citizen"
   ]
  }
 ],
 "metadata": {
  "kernelspec": {
   "display_name": "Python 3 (ipykernel)",
   "language": "python",
   "name": "python3"
  },
  "language_info": {
   "codemirror_mode": {
    "name": "ipython",
    "version": 3
   },
   "file_extension": ".py",
   "mimetype": "text/x-python",
   "name": "python",
   "nbconvert_exporter": "python",
   "pygments_lexer": "ipython3",
   "version": "3.12.7"
  }
 },
 "nbformat": 4,
 "nbformat_minor": 5
}
