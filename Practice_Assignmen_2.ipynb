{
 "cells": [
  {
   "cell_type": "markdown",
   "id": "70bc3c53-a9f5-4532-8a60-8948474a8316",
   "metadata": {},
   "source": [
    "# AHMED HASNAIN\n",
    "# ASSIGMENT-2"
   ]
  },
  {
   "cell_type": "markdown",
   "id": "c4adf645-7dc9-407a-a2d5-c3f9f895ea9c",
   "metadata": {},
   "source": [
    "# Q1: Area of a Rectangle"
   ]
  },
  {
   "cell_type": "code",
   "execution_count": 1,
   "id": "92bc2227-0629-4906-ba8a-462a8a0c798e",
   "metadata": {},
   "outputs": [
    {
     "name": "stdin",
     "output_type": "stream",
     "text": [
      "Enter the length:  65\n",
      "Enter the width:  95\n"
     ]
    },
    {
     "name": "stdout",
     "output_type": "stream",
     "text": [
      "Area of the rectangle: 6175.0\n"
     ]
    }
   ],
   "source": [
    "length = float(input(\"Enter the length: \"))\n",
    "width = float(input(\"Enter the width: \"))\n",
    "area = length * width\n",
    "print(\"Area of the rectangle:\", area)"
   ]
  },
  {
   "cell_type": "markdown",
   "id": "bbb293c8-ab84-4b68-9974-7e8c3809ed71",
   "metadata": {},
   "source": [
    "# Q2: Circumference of a Circle"
   ]
  },
  {
   "cell_type": "code",
   "execution_count": 2,
   "id": "505cce19-89f3-41ea-b062-5c2e2d86cb74",
   "metadata": {},
   "outputs": [
    {
     "name": "stdin",
     "output_type": "stream",
     "text": [
      "Enter the radius:  23\n"
     ]
    },
    {
     "name": "stdout",
     "output_type": "stream",
     "text": [
      "Circumference of the circle: 144.51326206513048\n"
     ]
    }
   ],
   "source": [
    "import math\n",
    "radius = float(input(\"Enter the radius: \"))\n",
    "circumference = 2 * math.pi * radius\n",
    "print(\"Circumference of the circle:\", circumference)"
   ]
  },
  {
   "cell_type": "markdown",
   "id": "e0d04ece-045b-48d5-b99f-80efe3cca714",
   "metadata": {},
   "source": [
    "# Q3: Simple Interest"
   ]
  },
  {
   "cell_type": "code",
   "execution_count": 3,
   "id": "1aa1396a-3d7d-4893-9bf6-9f2a7a6f4890",
   "metadata": {},
   "outputs": [
    {
     "name": "stdin",
     "output_type": "stream",
     "text": [
      "Enter the principal amount:  93\n",
      "Enter the rate of interest:  39\n",
      "Enter the time period:  65\n"
     ]
    },
    {
     "name": "stdout",
     "output_type": "stream",
     "text": [
      "Simple interest: 235755.0\n"
     ]
    }
   ],
   "source": [
    "principal = float(input(\"Enter the principal amount: \"))\n",
    "rate = float(input(\"Enter the rate of interest: \"))\n",
    "time = float(input(\"Enter the time period: \"))\n",
    "simple_interest = principal * rate * time\n",
    "print(\"Simple interest:\", simple_interest)"
   ]
  },
  {
   "cell_type": "markdown",
   "id": "79ef6e30-d9c3-4f6d-83d9-bef7848f599e",
   "metadata": {},
   "source": [
    "# Q4: Speed of an Object"
   ]
  },
  {
   "cell_type": "code",
   "execution_count": 4,
   "id": "f749943c-4db2-4454-943d-d506d0f645e5",
   "metadata": {},
   "outputs": [
    {
     "name": "stdin",
     "output_type": "stream",
     "text": [
      "Enter the distance:  56\n",
      "Enter the time:  25\n"
     ]
    },
    {
     "name": "stdout",
     "output_type": "stream",
     "text": [
      "Speed of the object: 2.24\n"
     ]
    }
   ],
   "source": [
    "#### distance = float(input(\"Enter the distance: \"))\n",
    "time = float(input(\"Enter the time: \"))\n",
    "speed = distance / time\n",
    "print(\"Speed of the object:\", speed)\n"
   ]
  },
  {
   "cell_type": "markdown",
   "id": "723644b0-ab38-4dd5-88fd-dba5649d5e3e",
   "metadata": {},
   "source": [
    "# Q5: BMI Calculator"
   ]
  },
  {
   "cell_type": "code",
   "execution_count": 5,
   "id": "c5b440bd-08cf-4fbe-94f5-8d23d04e79dc",
   "metadata": {},
   "outputs": [
    {
     "name": "stdin",
     "output_type": "stream",
     "text": [
      "Enter your weight (kg):  45\n",
      "Enter your height (m):  82\n"
     ]
    },
    {
     "name": "stdout",
     "output_type": "stream",
     "text": [
      "Your BMI is: 0.00669244497323022\n"
     ]
    }
   ],
   "source": [
    "weight = float(input(\"Enter your weight (kg): \"))\n",
    "height = float(input(\"Enter your height (m): \"))\n",
    "bmi = weight / (height ** 2)\n",
    "print(\"Your BMI is:\", bmi)"
   ]
  },
  {
   "cell_type": "markdown",
   "id": "ec0649d8-2e1d-4ec0-9af9-0a095d06cf02",
   "metadata": {},
   "source": [
    "# Q6: Force Using Newton's Second Law"
   ]
  },
  {
   "cell_type": "code",
   "execution_count": 7,
   "id": "b3509a71-a133-49c7-b83d-abe05776491b",
   "metadata": {},
   "outputs": [
    {
     "name": "stdin",
     "output_type": "stream",
     "text": [
      "Enter the mass (kg):  65\n",
      "Enter the acceleration (m/s²):  32\n"
     ]
    },
    {
     "name": "stdout",
     "output_type": "stream",
     "text": [
      "Force exerted: 2080.0\n"
     ]
    }
   ],
   "source": [
    "mass = float(input(\"Enter the mass (kg): \"))\n",
    "acceleration = float(input(\"Enter the acceleration (m/s²): \"))\n",
    "force = mass * acceleration\n",
    "print(\"Force exerted:\", force)"
   ]
  },
  {
   "cell_type": "markdown",
   "id": "9ed799b7-ba4d-4d25-a78b-dbbcf6717101",
   "metadata": {},
   "source": [
    "# Q7: Compound Interest"
   ]
  },
  {
   "cell_type": "code",
   "execution_count": 9,
   "id": "ee9525dc-317d-4f66-b4b1-da9a01a9432b",
   "metadata": {},
   "outputs": [
    {
     "name": "stdin",
     "output_type": "stream",
     "text": [
      "Enter the principal amount:  85\n",
      "Enter the annual interest rate (decimal):  32\n",
      "Enter the number of times interest is compounded per year:  6\n",
      "Enter the time in years:  2\n"
     ]
    },
    {
     "name": "stdout",
     "output_type": "stream",
     "text": [
      "Compound interest: 354003112434.77844\n"
     ]
    }
   ],
   "source": [
    "principal = float(input(\"Enter the principal amount: \"))\n",
    "rate = float(input(\"Enter the annual interest rate (decimal): \"))\n",
    "n = int(input(\"Enter the number of times interest is compounded per year: \"))\n",
    "time = float(input(\"Enter the time in years: \"))\n",
    "amount = principal * (1 + rate / n) ** (n * time)\n",
    "print(\"Compound interest:\", amount - principal)"
   ]
  },
  {
   "cell_type": "markdown",
   "id": "6c58aa06-63d8-48c3-9eb8-2efc4882d210",
   "metadata": {},
   "source": [
    "# Q8: Perimeter of a Triangle"
   ]
  },
  {
   "cell_type": "code",
   "execution_count": 10,
   "id": "4adaa85b-e2a8-40dc-b5fc-e6c5c21317dd",
   "metadata": {},
   "outputs": [
    {
     "name": "stdin",
     "output_type": "stream",
     "text": [
      "Enter the first side:  95\n",
      "Enter the second side:  74\n",
      "Enter the third side:  28\n"
     ]
    },
    {
     "name": "stdout",
     "output_type": "stream",
     "text": [
      "Perimeter of the triangle: 197.0\n"
     ]
    }
   ],
   "source": [
    "a = float(input(\"Enter the first side: \"))\n",
    "b = float(input(\"Enter the second side: \"))\n",
    "c = float(input(\"Enter the third side: \"))\n",
    "perimeter = a + b + c\n",
    "print(\"Perimeter of the triangle:\", perimeter)"
   ]
  },
  {
   "cell_type": "markdown",
   "id": "c0ac2caa-2e63-4651-a0d3-4c6a2c0cf403",
   "metadata": {},
   "source": [
    "# Q9: Volume of a Sphere"
   ]
  },
  {
   "cell_type": "code",
   "execution_count": 11,
   "id": "9bad0f8b-8d8e-434e-a33e-4cb520c77939",
   "metadata": {},
   "outputs": [
    {
     "name": "stdin",
     "output_type": "stream",
     "text": [
      "Enter the radius:  45\n"
     ]
    },
    {
     "name": "stdout",
     "output_type": "stream",
     "text": [
      "Volume of the sphere: 381703.5074111598\n"
     ]
    }
   ],
   "source": [
    "radius = float(input(\"Enter the radius: \"))\n",
    "volume = (4 / 3) * math.pi * (radius ** 3)\n",
    "print(\"Volume of the sphere:\", volume)"
   ]
  },
  {
   "cell_type": "markdown",
   "id": "1fecd030-e425-421f-9dca-bc18ff6241ae",
   "metadata": {},
   "source": [
    "# Q10: Kinetic Energy"
   ]
  },
  {
   "cell_type": "code",
   "execution_count": 12,
   "id": "fde486f6-7829-4490-b19d-fd632213a19d",
   "metadata": {},
   "outputs": [
    {
     "name": "stdin",
     "output_type": "stream",
     "text": [
      "Enter the mass (kg):  85\n",
      "Enter the velocity (m/s):  28\n"
     ]
    },
    {
     "name": "stdout",
     "output_type": "stream",
     "text": [
      "Kinetic energy: 33320.0\n"
     ]
    }
   ],
   "source": [
    "mass = float(input(\"Enter the mass (kg): \"))\n",
    "velocity = float(input(\"Enter the velocity (m/s): \"))\n",
    "kinetic_energy = 0.5 * mass * (velocity ** 2)\n",
    "print(\"Kinetic energy:\", kinetic_energy)"
   ]
  },
  {
   "cell_type": "markdown",
   "id": "3f29da80-cea6-4a59-9f48-f89084652a74",
   "metadata": {},
   "source": [
    "# Q11: Quadratic Equation Roots"
   ]
  },
  {
   "cell_type": "code",
   "execution_count": 13,
   "id": "b77dd92a-7058-4fbe-8288-cdcf32fe6f1c",
   "metadata": {},
   "outputs": [
    {
     "name": "stdin",
     "output_type": "stream",
     "text": [
      "Enter coefficient a:  33\n",
      "Enter coefficient b:  66\n",
      "Enter coefficient c:  55\n"
     ]
    },
    {
     "name": "stdout",
     "output_type": "stream",
     "text": [
      "Roots of the quadratic equation: (-1+0.816496580927726j) (-1-0.816496580927726j)\n"
     ]
    }
   ],
   "source": [
    "import cmath\n",
    "a = float(input(\"Enter coefficient a: \"))\n",
    "b = float(input(\"Enter coefficient b: \"))\n",
    "c = float(input(\"Enter coefficient c: \"))\n",
    "discriminant = cmath.sqrt(b**2 - 4*a*c)\n",
    "root1 = (-b + discriminant) / (2*a)\n",
    "root2 = (-b - discriminant) / (2*a)\n",
    "print(\"Roots of the quadratic equation:\", root1, root2)"
   ]
  },
  {
   "cell_type": "markdown",
   "id": "93dd96ca-1a70-47b4-ab07-59b5d71a11c2",
   "metadata": {},
   "source": [
    "# Q12: Temperature Conversion"
   ]
  },
  {
   "cell_type": "code",
   "execution_count": 14,
   "id": "ad569bbb-0f9e-48a2-ba80-6dab346f6e1e",
   "metadata": {},
   "outputs": [
    {
     "name": "stdin",
     "output_type": "stream",
     "text": [
      "Enter temperature in Celsius:  56\n"
     ]
    },
    {
     "name": "stdout",
     "output_type": "stream",
     "text": [
      "Temperature in Fahrenheit: 132.8\n"
     ]
    }
   ],
   "source": [
    "celsius = float(input(\"Enter temperature in Celsius: \"))\n",
    "fahrenheit = (celsius * 9/5) + 32\n",
    "print(\"Temperature in Fahrenheit:\", fahrenheit)"
   ]
  },
  {
   "cell_type": "markdown",
   "id": "10cdd30e-cfb4-4c66-bb72-9f2f998c04e3",
   "metadata": {},
   "source": [
    "# Q13: Gravitational Force"
   ]
  },
  {
   "cell_type": "code",
   "execution_count": 15,
   "id": "47db2944-b356-45dc-9f78-72e7e40266ac",
   "metadata": {},
   "outputs": [
    {
     "name": "stdin",
     "output_type": "stream",
     "text": [
      "Enter mass m1 (kg):  888\n",
      "Enter mass m2 (kg):  66\n",
      "Enter the distance between objects (m):  77\n"
     ]
    },
    {
     "name": "stdout",
     "output_type": "stream",
     "text": [
      "Gravitational force: 6.597526975881262e-10\n"
     ]
    }
   ],
   "source": [
    "G = 6.67430e-11\n",
    "m1 = float(input(\"Enter mass m1 (kg): \"))\n",
    "m2 = float(input(\"Enter mass m2 (kg): \"))\n",
    "r = float(input(\"Enter the distance between objects (m): \"))\n",
    "force = G * m1 * m2 / r**2\n",
    "print(\"Gravitational force:\", force)"
   ]
  },
  {
   "cell_type": "markdown",
   "id": "56a427a1-23fb-416e-9cc2-2ebd552c5637",
   "metadata": {},
   "source": [
    "# Q14: Volume of a Cylinder"
   ]
  },
  {
   "cell_type": "code",
   "execution_count": 16,
   "id": "9326a4ce-65aa-4e5f-b925-49b3582b5097",
   "metadata": {},
   "outputs": [
    {
     "name": "stdin",
     "output_type": "stream",
     "text": [
      "Enter the radius:  45\n",
      "Enter the height:  35\n"
     ]
    },
    {
     "name": "stdout",
     "output_type": "stream",
     "text": [
      "Volume of the cylinder: 222660.37932317657\n"
     ]
    }
   ],
   "source": [
    "radius = float(input(\"Enter the radius: \"))\n",
    "height = float(input(\"Enter the height: \"))\n",
    "volume = math.pi * (radius ** 2) * height\n",
    "print(\"Volume of the cylinder:\", volume)"
   ]
  },
  {
   "cell_type": "markdown",
   "id": "66817e82-0047-4d30-b5a6-c09a13b6f63c",
   "metadata": {},
   "source": [
    "# Q15: Pressure"
   ]
  },
  {
   "cell_type": "code",
   "execution_count": 17,
   "id": "92a2e3f3-f7eb-4b57-afb6-fa6e256eab29",
   "metadata": {},
   "outputs": [
    {
     "name": "stdin",
     "output_type": "stream",
     "text": [
      "Enter the force:  520\n",
      "Enter the area:  356\n"
     ]
    },
    {
     "name": "stdout",
     "output_type": "stream",
     "text": [
      "Pressure: 1.4606741573033708\n"
     ]
    }
   ],
   "source": [
    "force = float(input(\"Enter the force: \"))\n",
    "area = float(input(\"Enter the area: \"))\n",
    "pressure = force / area\n",
    "print(\"Pressure:\", pressure)"
   ]
  },
  {
   "cell_type": "markdown",
   "id": "b5890401-25d6-42c2-b993-842534984165",
   "metadata": {},
   "source": [
    "# Q16: Electric Power"
   ]
  },
  {
   "cell_type": "code",
   "execution_count": 18,
   "id": "39f18c26-311c-4025-9e0f-711c6802069b",
   "metadata": {},
   "outputs": [
    {
     "name": "stdin",
     "output_type": "stream",
     "text": [
      "Enter the voltage:  780\n",
      "Enter the current:  360\n"
     ]
    },
    {
     "name": "stdout",
     "output_type": "stream",
     "text": [
      "Electric power: 280800.0\n"
     ]
    }
   ],
   "source": [
    "voltage = float(input(\"Enter the voltage: \"))\n",
    "current = float(input(\"Enter the current: \"))\n",
    "power = voltage * current\n",
    "print(\"Electric power:\", power)"
   ]
  },
  {
   "cell_type": "markdown",
   "id": "a19aedba-1813-4d55-814b-188f3bbd317b",
   "metadata": {},
   "source": [
    "# Q17: Perimeter of a Circle"
   ]
  },
  {
   "cell_type": "code",
   "execution_count": 19,
   "id": "e5cdc35f-6ade-4f42-b10a-19b22abef749",
   "metadata": {},
   "outputs": [
    {
     "name": "stdin",
     "output_type": "stream",
     "text": [
      "Enter the radius:  4\n"
     ]
    },
    {
     "name": "stdout",
     "output_type": "stream",
     "text": [
      "Perimeter of the circle: 25.132741228718345\n"
     ]
    }
   ],
   "source": [
    "radius = float(input(\"Enter the radius: \"))\n",
    "perimeter = 2 * math.pi * radius\n",
    "print(\"Perimeter of the circle:\", perimeter)"
   ]
  },
  {
   "cell_type": "markdown",
   "id": "03e8744c-a422-4750-a623-22f8ca775ed4",
   "metadata": {},
   "source": [
    "# Q18: Future Value in Savings"
   ]
  },
  {
   "cell_type": "code",
   "execution_count": 21,
   "id": "9ca0cbf4-d823-4e1f-b2ef-f6a01ef998be",
   "metadata": {},
   "outputs": [
    {
     "name": "stdin",
     "output_type": "stream",
     "text": [
      "Enter the present value:  78\n",
      "Enter the annual interest rate (decimal):  65\n",
      "Enter the time in years:  3\n"
     ]
    },
    {
     "name": "stdout",
     "output_type": "stream",
     "text": [
      "Future value: 22424688.0\n"
     ]
    }
   ],
   "source": [
    "present_value = float(input(\"Enter the present value: \"))\n",
    "rate = float(input(\"Enter the annual interest rate (decimal): \"))\n",
    "time = float(input(\"Enter the time in years: \"))\n",
    "future_value = present_value * (1 + rate) ** time\n",
    "print(\"Future value:\", future_value)"
   ]
  },
  {
   "cell_type": "markdown",
   "id": "e569f118-22ed-4361-9a34-9240d108f8cf",
   "metadata": {},
   "source": [
    "# Q19: Work Done by a Force"
   ]
  },
  {
   "cell_type": "code",
   "execution_count": 22,
   "id": "b87c7a67-e4c3-4dfe-be1d-59f624ee0783",
   "metadata": {},
   "outputs": [
    {
     "name": "stdin",
     "output_type": "stream",
     "text": [
      "Enter the force:  24\n",
      "Enter the distance:  54\n",
      "Enter the angle in degrees:  95\n"
     ]
    },
    {
     "name": "stdout",
     "output_type": "stream",
     "text": [
      "Work done: -112.95384260096507\n"
     ]
    }
   ],
   "source": [
    "import math\n",
    "force = float(input(\"Enter the force: \"))\n",
    "distance = float(input(\"Enter the distance: \"))\n",
    "theta = float(input(\"Enter the angle in degrees: \"))\n",
    "work_done = force * distance * math.cos(math.radians(theta))\n",
    "print(\"Work done:\", work_done)"
   ]
  },
  {
   "cell_type": "markdown",
   "id": "cf5709d1-8d55-47b6-aa11-5b4079dabcc3",
   "metadata": {},
   "source": [
    "# Q20: Heat Transfer"
   ]
  },
  {
   "cell_type": "code",
   "execution_count": 23,
   "id": "8b93885f-1a78-4515-8056-bf3f09f2b3fa",
   "metadata": {},
   "outputs": [
    {
     "name": "stdin",
     "output_type": "stream",
     "text": [
      "Enter the mass:  78\n",
      "Enter the specific heat capacity:  65\n",
      "Enter the temperature change:  25\n"
     ]
    },
    {
     "name": "stdout",
     "output_type": "stream",
     "text": [
      "Heat transferred: 126750.0\n"
     ]
    }
   ],
   "source": [
    "mass = float(input(\"Enter the mass: \"))\n",
    "specific_heat = float(input(\"Enter the specific heat capacity: \"))\n",
    "temperature_change = float(input(\"Enter the temperature change: \"))\n",
    "heat_transfer = mass * specific_heat * temperature_change\n",
    "print(\"Heat transferred:\", heat_transfer)\n"
   ]
  },
  {
   "cell_type": "code",
   "execution_count": null,
   "id": "737e4317-867b-4dd0-a0e3-1fc2a8175fc1",
   "metadata": {},
   "outputs": [],
   "source": []
  }
 ],
 "metadata": {
  "kernelspec": {
   "display_name": "Python 3 (ipykernel)",
   "language": "python",
   "name": "python3"
  },
  "language_info": {
   "codemirror_mode": {
    "name": "ipython",
    "version": 3
   },
   "file_extension": ".py",
   "mimetype": "text/x-python",
   "name": "python",
   "nbconvert_exporter": "python",
   "pygments_lexer": "ipython3",
   "version": "3.12.7"
  }
 },
 "nbformat": 4,
 "nbformat_minor": 5
}
