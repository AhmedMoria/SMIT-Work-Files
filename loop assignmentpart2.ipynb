{
 "cells": [
  {
   "cell_type": "raw",
   "id": "571b8207-f751-4d4d-81fd-66a524d34a1d",
   "metadata": {},
   "source": [
    "Write a Python program to print the numbers from 1 to 10 using a for loop.  \n"
   ]
  },
  {
   "cell_type": "code",
   "execution_count": 4,
   "id": "fb897bad-3278-4159-9793-d02e3004b644",
   "metadata": {},
   "outputs": [
    {
     "name": "stdout",
     "output_type": "stream",
     "text": [
      "1\n",
      "2\n",
      "3\n",
      "4\n",
      "5\n",
      "6\n",
      "7\n",
      "8\n",
      "9\n",
      "10\n"
     ]
    }
   ],
   "source": [
    "for a in range(1,11):\n",
    "  print ( a)\n",
    "    "
   ]
  },
  {
   "cell_type": "raw",
   "id": "6ced9f21-0e2c-49a5-9540-cb87f20be872",
   "metadata": {},
   "source": [
    " Write a Python program to print the numbers from 20 to 1 using a while loop. \n"
   ]
  },
  {
   "cell_type": "code",
   "execution_count": 14,
   "id": "a43efaf0-0762-4108-80d2-2c97bf59f1e9",
   "metadata": {},
   "outputs": [
    {
     "name": "stdout",
     "output_type": "stream",
     "text": [
      "20\n",
      "19\n",
      "18\n",
      "17\n",
      "16\n",
      "15\n",
      "14\n",
      "13\n",
      "12\n",
      "11\n",
      "10\n",
      "9\n",
      "8\n",
      "7\n",
      "6\n",
      "5\n",
      "4\n",
      "3\n",
      "2\n",
      "1\n"
     ]
    }
   ],
   "source": [
    "num=20\n",
    "while num >= 1:\n",
    "    print(num)\n",
    "    num -= 1"
   ]
  },
  {
   "cell_type": "raw",
   "id": "13cdb756-eb0e-456b-a14e-81f31d247a8c",
   "metadata": {},
   "source": [
    " Write a program to print even numbers from 1 to 10\n"
   ]
  },
  {
   "cell_type": "code",
   "execution_count": 20,
   "id": "76d66e68-ece8-401a-8db9-29c9f1f98eb5",
   "metadata": {},
   "outputs": [
    {
     "name": "stdout",
     "output_type": "stream",
     "text": [
      "2\n",
      "4\n",
      "6\n",
      "8\n",
      "10\n"
     ]
    }
   ],
   "source": [
    "for num in range(1,11):\n",
    "    if num %2 == 0:\n",
    "      print(num)"
   ]
  },
  {
   "cell_type": "raw",
   "id": "249ac4e7-8626-4a55-8502-b8afa03972ae",
   "metadata": {},
   "source": [
    "Write a program that prompts the user to enter a number n and prints all the \n",
    "numbers from 1 to n.   "
   ]
  },
  {
   "cell_type": "code",
   "execution_count": 36,
   "id": "6fb5fd89-8050-4a6e-bc43-c62060f51649",
   "metadata": {},
   "outputs": [
    {
     "name": "stdin",
     "output_type": "stream",
     "text": [
      "enter a number:  11\n"
     ]
    },
    {
     "name": "stdout",
     "output_type": "stream",
     "text": [
      "1\n",
      "2\n",
      "3\n",
      "4\n",
      "5\n",
      "6\n",
      "7\n",
      "8\n",
      "9\n",
      "10\n",
      "11\n"
     ]
    }
   ],
   "source": [
    "n= int(input(\"enter a number: \"))\n",
    "for a in range(1,n+1):\n",
    "   print (a)"
   ]
  },
  {
   "cell_type": "raw",
   "id": "3da833fd-6fd1-40c6-850a-868e1dee28c3",
   "metadata": {},
   "source": [
    "Write a program that prompts the user to enter a number n, and then prints all the \n",
    "odd numbers between 1 and n\n"
   ]
  },
  {
   "cell_type": "code",
   "execution_count": 37,
   "id": "47291888-b320-4f4d-a406-5b86beaf308d",
   "metadata": {},
   "outputs": [
    {
     "name": "stdin",
     "output_type": "stream",
     "text": [
      "Enter a number n:  33\n"
     ]
    },
    {
     "name": "stdout",
     "output_type": "stream",
     "text": [
      "1\n",
      "3\n",
      "5\n",
      "7\n",
      "9\n",
      "11\n",
      "13\n",
      "15\n",
      "17\n",
      "19\n",
      "21\n",
      "23\n",
      "25\n",
      "27\n",
      "29\n",
      "31\n",
      "33\n"
     ]
    }
   ],
   "source": [
    "n = int(input(\"Enter a number n: \"))\n",
    "for i in range(1, n+1):\n",
    "    if i %2!= 0:\n",
    "        print(i)"
   ]
  },
  {
   "cell_type": "raw",
   "id": "34cfa0b0-9fdc-4236-bc81-df5e2cc1a7aa",
   "metadata": {},
   "source": [
    "Write a program that prints 'Happy Birthday!' five times on screen.\n"
   ]
  },
  {
   "cell_type": "code",
   "execution_count": 35,
   "id": "469fe523-d959-4dc1-9837-0ba2c42b5acc",
   "metadata": {},
   "outputs": [
    {
     "name": "stdout",
     "output_type": "stream",
     "text": [
      "Happy Birthday!\n",
      "Happy Birthday!\n",
      "Happy Birthday!\n",
      "Happy Birthday!\n",
      "Happy Birthday!\n"
     ]
    }
   ],
   "source": [
    "for a in range (5): \n",
    "  print ( 'Happy Birthday!' )"
   ]
  },
  {
   "cell_type": "raw",
   "id": "6fac9b7c-0696-48eb-9d67-44ced87a7a43",
   "metadata": {},
   "source": [
    "Write a program that takes a number n as input from the user and generates the first\n",
    "n terms of the series formed by squaring the natural numbers.\n",
    "Sample output\n",
    "Enter a number: 6\n",
    "The first 6 terms of the series are:\n",
    "1 4 9 16 25 36"
   ]
  },
  {
   "cell_type": "code",
   "execution_count": 2,
   "id": "463afa1d-5f26-4d9c-bcad-633b249dca0f",
   "metadata": {},
   "outputs": [
    {
     "name": "stdin",
     "output_type": "stream",
     "text": [
      "enter a number: 6\n"
     ]
    },
    {
     "name": "stdout",
     "output_type": "stream",
     "text": [
      "1 The first 6 terms of the series are:\n",
      "4 The first 6 terms of the series are:\n",
      "9 The first 6 terms of the series are:\n",
      "16 The first 6 terms of the series are:\n",
      "25 The first 6 terms of the series are:\n",
      "36 The first 6 terms of the series are:\n"
     ]
    }
   ],
   "source": [
    "n= int(input(\"enter a number:\"))\n",
    "def generate_series(n):\n",
    "    for i in range(1, n+1):\n",
    "        print(i**2, end=\" \")\n",
    "        print(f\"The first {n} terms of the series are:\")\n",
    "generate_series(n)"
   ]
  },
  {
   "cell_type": "raw",
   "id": "eaf28931-0a03-4484-be71-866bb0305313",
   "metadata": {},
   "source": [
    "Write a program that prompts the user to input a number and prints its multiplication\n",
    "table"
   ]
  },
  {
   "cell_type": "code",
   "execution_count": 14,
   "id": "5312d2d1-8ce4-4099-a7a1-10fd1c422464",
   "metadata": {},
   "outputs": [
    {
     "name": "stdin",
     "output_type": "stream",
     "text": [
      "Enter a number:  6\n"
     ]
    },
    {
     "name": "stdout",
     "output_type": "stream",
     "text": [
      "Multiplication table for 6:\n",
      "6 x 1 = 6\n",
      "6 x 2 = 12\n",
      "6 x 3 = 18\n",
      "6 x 4 = 24\n",
      "6 x 5 = 30\n",
      "6 x 6 = 36\n",
      "6 x 7 = 42\n",
      "6 x 8 = 48\n",
      "6 x 9 = 54\n",
      "6 x 10 = 60\n"
     ]
    }
   ],
   "source": [
    "\n",
    "num = int(input(\"Enter a number: \"))\n",
    "print(f\"Multiplication table for {num}:\")\n",
    "for i in range(1, 11):\n",
    "    print(f\"{num} x {i} = {num * i}\")\n"
   ]
  },
  {
   "cell_type": "raw",
   "id": "14ff59d3-eebc-438a-9f39-76be32da76fc",
   "metadata": {},
   "source": [
    "9. Write a Python program to print the first 8 terms of an arithmetic progression starting\n",
    "with 3 and having a common difference of 4.\n",
    "The program should output the following sequence:\n",
    "3 7 11 15 19 23 27 31"
   ]
  },
  {
   "cell_type": "code",
   "execution_count": 16,
   "id": "5f419fe1-073d-4f00-aa5c-09445f4e2570",
   "metadata": {},
   "outputs": [
    {
     "name": "stdout",
     "output_type": "stream",
     "text": [
      "3 7 11 15 19 23 27 31 "
     ]
    }
   ],
   "source": [
    "\n",
    "first_term = 3\n",
    "common_difference = 4\n",
    "num_terms = 8\n",
    "\n",
    "for i in range(num_terms):\n",
    "    term = first_term + i * common_difference\n",
    "    print(term, end=\" \")"
   ]
  },
  {
   "cell_type": "raw",
   "id": "7be04574-3791-4272-b377-20f446200830",
   "metadata": {},
   "source": [
    "Write a Python program to print the first 6 terms of a geometric sequence starting\n",
    "with 2 and having a common ratio of 3.\n",
    "The program should output the following sequence:\n",
    "2 6 18 54 162 486 \n"
   ]
  },
  {
   "cell_type": "code",
   "execution_count": 17,
   "id": "4d38ef83-d7d7-40bb-af4e-bceccde970e7",
   "metadata": {},
   "outputs": [
    {
     "name": "stdout",
     "output_type": "stream",
     "text": [
      "2 6 18 54 162 486 "
     ]
    }
   ],
   "source": [
    "\n",
    "first_term = 2\n",
    "common_ratio = 3\n",
    "num_terms =6\n",
    "for i in range(num_terms):\n",
    "    term = first_term * (common_ratio ** i)\n",
    "    print(term, end=\" \")\n"
   ]
  },
  {
   "cell_type": "raw",
   "id": "43dd456f-0786-40dd-8dd2-a8b09f25218c",
   "metadata": {},
   "source": [
    "Write a program that asks the user for a positive integer value. The program should\n",
    "calculate the sum of all the integers from 1 up to the number entered. For example, if\n",
    "the user enters 20, the loop will find the sum of 1, 2, 3, 4, ... 20"
   ]
  },
  {
   "cell_type": "code",
   "execution_count": 21,
   "id": "628c644e-eb74-48da-8847-790fea24d140",
   "metadata": {},
   "outputs": [
    {
     "name": "stdin",
     "output_type": "stream",
     "text": [
      "Enter a positive integer:  4\n"
     ]
    },
    {
     "name": "stdout",
     "output_type": "stream",
     "text": [
      "The sum of all integers from 1 to 4 is: 10\n"
     ]
    }
   ],
   "source": [
    "\n",
    "num = int(input(\"Enter a positive integer: \"))\n",
    "sum_of_numbers = 0\n",
    "for i in range(1, num + 1):\n",
    "    sum_of_numbers+= i\n",
    "print(f\"The sum of all integers from 1 to {num} is: {sum_of_numbers}\")\n"
   ]
  },
  {
   "cell_type": "raw",
   "id": "29f01e85-1129-4a6f-8c5a-e2a1e5a6ce96",
   "metadata": {},
   "source": [
    "write a program that takes a positive integer N as input and calculates the sum of\n",
    "the reciprocals of all numbers from 1 up to N. The program should display the final sum.\n",
    "Output of the program should be like:\n",
    "Enter a positive integer: 5\n",
    "The sum of reciprocals from 1 to 5 is: 2.28 \n"
   ]
  },
  {
   "cell_type": "code",
   "execution_count": 23,
   "id": "2285b366-c8dc-425b-adab-705427c14339",
   "metadata": {},
   "outputs": [
    {
     "name": "stdin",
     "output_type": "stream",
     "text": [
      "Enter a positive integer:  5\n"
     ]
    },
    {
     "name": "stdout",
     "output_type": "stream",
     "text": [
      "The sum of reciprocals from 1 to 5 is: 2.28\n"
     ]
    }
   ],
   "source": [
    "\n",
    "def sum_of_reciprocals(N):\n",
    "    total_sum = 0\n",
    "    for i in range(1, N+1):\n",
    "        total_sum += 1 / i\n",
    "    return total_sum\n",
    "N = int(input(\"Enter a positive integer: \"))\n",
    "if N > 0:\n",
    "    result = sum_of_reciprocals(N)\n",
    "    print(f\"The sum of reciprocals from 1 to {N} is: {result:.2f}\")\n",
    "else:\n",
    "    print(\"Please enter a positive integer.\")\n"
   ]
  },
  {
   "cell_type": "raw",
   "id": "4c47bce1-4204-4811-b3cb-a472ca75e65a",
   "metadata": {},
   "source": [
    "Write a program that prompts the user to enter a number and repeats this process 5\n",
    "times. The program should accumulate the numbers entered and then display the final\n",
    "running total.\n",
    "Sample Output:\n",
    "Enter a number: 10\n",
    "Enter a number: 15\n",
    "Enter a number: 35\n",
    "Enter a number: 40\n",
    "Enter a number: 50\n",
    "The final running total is: 150"
   ]
  },
  {
   "cell_type": "code",
   "execution_count": 2,
   "id": "03dd640f-6ca0-42a2-849b-aad0d329b030",
   "metadata": {},
   "outputs": [
    {
     "name": "stdin",
     "output_type": "stream",
     "text": [
      "Enter a number:  5\n",
      "Enter a number:  90\n",
      "Enter a number:  5\n",
      "Enter a number:  5\n",
      "Enter a number:  5\n"
     ]
    },
    {
     "name": "stdout",
     "output_type": "stream",
     "text": [
      "The final running total is: 110.0\n"
     ]
    }
   ],
   "source": [
    " total = 0\n",
    "for i in range(5):\n",
    "    number = float(input(\"Enter a number: \"))\n",
    "    \n",
    "    total += number\n",
    "\n",
    "print(f\"The final running total is: {total}\")\n"
   ]
  },
  {
   "cell_type": "raw",
   "id": "af89cb01-bc8c-4979-9336-62b28d60e43c",
   "metadata": {},
   "source": [
    "Write a program that prompts the user to enter a positive integer and calculates its\n",
    "factorial. The factorial of a positive integer 'n' is denoted as 'n!' and is calculated by\n",
    "multiplying all the integers from 1 to 'n' together. For example, the factorial of 5\n",
    "(denoted as 5!) is calculated as 1 x 2 x 3 x 4 x 5.\n",
    "The program should display the factorial value if the input is a positive number, or\n",
    "display a message stating that the factorial does not exist for negative numbers.\n",
    "Additionally, for an input of zero, the program should output that the factorial of 0 is 1. "
   ]
  },
  {
   "cell_type": "code",
   "execution_count": 3,
   "id": "c22e3849-a75a-4e62-857c-78f2db67fe0c",
   "metadata": {},
   "outputs": [
    {
     "name": "stdin",
     "output_type": "stream",
     "text": [
      "Enter a positive integer:  6\n"
     ]
    },
    {
     "name": "stdout",
     "output_type": "stream",
     "text": [
      "The factorial of 6 is 720.\n"
     ]
    }
   ],
   "source": [
    "\n",
    "def factorial(n):\n",
    "    if n == 0:\n",
    "        return 1\n",
    "    elif n > 0:\n",
    "        result = 1\n",
    "        for i in range(1, n + 1):\n",
    "            result *= i\n",
    "        return result\n",
    "    else:\n",
    "        return None\n",
    "\n",
    "number = int(input(\"Enter a positive integer: \"))\n",
    "\n",
    "if number < 0:\n",
    "    print(\"Factorial does not exist for negative numbers.\")\n",
    "elif number == 0:\n",
    "    print(\"The factorial of 0 is 1.\")\n",
    "else:\n",
    "    fact = factorial(number)\n",
    "    print(f\"The factorial of {number} is {fact}.\")\n"
   ]
  },
  {
   "cell_type": "raw",
   "id": "2787996f-9ed3-4669-b355-d52ed7afc1f9",
   "metadata": {},
   "source": [
    "Write a Python program that prompts the user to enter a base number and an\n",
    "exponent, and then calculates the power of the base to the exponent. The program\n",
    "should not use the exponentiation operator (**) or the math.pow() function. The\n",
    "program should handle both positive and negative exponents. "
   ]
  },
  {
   "cell_type": "code",
   "execution_count": 4,
   "id": "c924f32c-1ba5-4805-b916-b98910222acf",
   "metadata": {},
   "outputs": [
    {
     "name": "stdin",
     "output_type": "stream",
     "text": [
      "Enter the base number:  2\n",
      "Enter the exponent:  4\n"
     ]
    },
    {
     "name": "stdout",
     "output_type": "stream",
     "text": [
      "2.0 raised to the power of 4 is 16.0\n"
     ]
    }
   ],
   "source": [
    "def power(base, exponent):\n",
    "    if exponent >= 0:\n",
    "        result = 1\n",
    "        for _ in range(exponent):\n",
    "            result *= base\n",
    "        return result\n",
    "    else:\n",
    "        result = 1\n",
    "        for _ in range(abs(exponent)):\n",
    "            result *= base\n",
    "        return 1 / result\n",
    "base = float(input(\"Enter the base number: \"))\n",
    "exponent = int(input(\"Enter the exponent: \"))\n",
    "result = power(base, exponent)\n",
    "print(f\"{base} raised to the power of {exponent} is {result}\")\n",
    "\n"
   ]
  },
  {
   "cell_type": "code",
   "execution_count": null,
   "id": "c83bb053-37fb-4c1f-98a0-a3b54e25ed48",
   "metadata": {},
   "outputs": [],
   "source": []
  }
 ],
 "metadata": {
  "kernelspec": {
   "display_name": "Python 3 (ipykernel)",
   "language": "python",
   "name": "python3"
  },
  "language_info": {
   "codemirror_mode": {
    "name": "ipython",
    "version": 3
   },
   "file_extension": ".py",
   "mimetype": "text/x-python",
   "name": "python",
   "nbconvert_exporter": "python",
   "pygments_lexer": "ipython3",
   "version": "3.12.7"
  }
 },
 "nbformat": 4,
 "nbformat_minor": 5
}
