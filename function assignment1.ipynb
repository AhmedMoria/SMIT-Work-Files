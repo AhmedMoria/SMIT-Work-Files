{
 "cells": [
  {
   "cell_type": "code",
   "execution_count": null,
   "id": "5f8dc474-583d-4749-9ec2-3fa75d229263",
   "metadata": {},
   "outputs": [],
   "source": [
    "Task1:\n",
    "You need to write a function in python that return all such numbers which are\n",
    "divisible by 7 but are not a multiple of 5, between 2000 and 3200 (both included).\n",
    "Return the obtained numbers in a comma-separated sequence on a single line. "
   ]
  },
  {
   "cell_type": "raw",
   "id": "5f44ba5f-7129-43ea-816e-3876757e1ee1",
   "metadata": {},
   "source": [
    "def find_numbers():\n",
    "    result = []\n",
    "    for number in range(2000, 3201):\n",
    "        if number % 7 == 0 and number % 5 != 0:\n",
    "            result.append(str(number))\n",
    "    return ','.join(result)\n",
    "print(find_numbers())"
   ]
  },
  {
   "cell_type": "raw",
   "id": "95223795-525c-4edb-998a-cf1018a8674b",
   "metadata": {},
   "source": [
    "Task2:\n",
    "You need code a function that calculates and returns the value according to the\n",
    "given formula:\n",
    "P = Square root of [(2 * A * B)/C]\n",
    "Following are the fixed values of A and B:\n",
    "A is 50. B is 30.\n",
    "The values of the literal C should be taken as console input to your program in a\n",
    "comma-separated sequence.\n",
    "Example\n",
    "Let us assume the following comma separated input sequence is given to the\n",
    "program:\n",
    "100,150,180\n",
    "The output of the program should be:\n",
    "18,22,24 "
   ]
  },
  {
   "cell_type": "code",
   "execution_count": 2,
   "id": "b134e4d4-acc1-4dab-b04d-2f0008cae4f4",
   "metadata": {},
   "outputs": [
    {
     "name": "stdin",
     "output_type": "stream",
     "text": [
      "Enter values of C (comma-separated):  9\n"
     ]
    },
    {
     "name": "stdout",
     "output_type": "stream",
     "text": [
      "18\n"
     ]
    }
   ],
   "source": [
    "import math\n",
    "\n",
    "def calculate_P(C_values):\n",
    "    A = 50\n",
    "    B = 30\n",
    "    result = [str(int(math.sqrt((2 * A * B) / int(C)))) for C in C_values.split(',')]\n",
    "    return ','.join(result)\n",
    "input_C_values = input(\"Enter values of C (comma-separated): \")\n",
    "print(calculate_P(input_C_values))"
   ]
  },
  {
   "cell_type": "raw",
   "id": "d0a8256a-2728-4b55-b23b-715162c7f463",
   "metadata": {},
   "source": [
    "Task3:\n",
    "You need to write a function that takes a comma separated sequence of words as\n",
    "input and prints the words in a comma-separated sequence after sorting them\n",
    "alphabetically.\n",
    "Suppose the following inpu"
   ]
  },
  {
   "cell_type": "code",
   "execution_count": 8,
   "id": "128e26b5-97b3-4600-8334-b6691f8190c2",
   "metadata": {},
   "outputs": [
    {
     "name": "stdin",
     "output_type": "stream",
     "text": [
      " hello, ahmed\n"
     ]
    },
    {
     "name": "stdout",
     "output_type": "stream",
     "text": [
      " ahmed,hello\n"
     ]
    }
   ],
   "source": [
    "def sort_words():\n",
    "    words = input().split(',')\n",
    "    words.sort()\n",
    "    print(','.join(words))\n",
    "sort_words()\n"
   ]
  },
  {
   "cell_type": "raw",
   "id": "b9e048ad-2bd8-4f28-9fcb-79b88755d97d",
   "metadata": {},
   "source": [
    "Task4:\n",
    "You need to write a program that takes sequence of lines as input and prints the\n",
    "lines after making all characters in the sentence capitalized.\n",
    "Suppose the following input is supplied to the program:\n",
    "Hello world\n",
    "Practice makes perfect\n",
    "Then, the output should be: "
   ]
  },
  {
   "cell_type": "code",
   "execution_count": null,
   "id": "e4bd9804-36b7-4108-b4bc-650a52a1d42c",
   "metadata": {},
   "outputs": [
    {
     "name": "stdin",
     "output_type": "stream",
     "text": [
      " hello ahmed\n"
     ]
    },
    {
     "name": "stdout",
     "output_type": "stream",
     "text": [
      "HELLO AHMED\n"
     ]
    },
    {
     "name": "stdin",
     "output_type": "stream",
     "text": [
      " practice makes perfect\n"
     ]
    },
    {
     "name": "stdout",
     "output_type": "stream",
     "text": [
      "PRACTICE MAKES PERFECT\n"
     ]
    }
   ],
   "source": [
    "def cap():\n",
    "    while True:\n",
    "        try:\n",
    "            line = input()\n",
    "            print(line.upper())\n",
    "        except EOFError:\n",
    "            break\n",
    "cap()"
   ]
  },
  {
   "cell_type": "raw",
   "id": "4769eb44-ecb0-46a8-80ef-d5b11db17532",
   "metadata": {},
   "source": [
    "Task5:\n",
    "You need to write a function that counts the number of vowels in a given\n",
    "sentence as input from console.\n",
    "Suppose the following input is supplied to the program:\n",
    "Hello world\n",
    "Practice makes perfect\n",
    "Then, the output should be:\n",
    "a appeared 2 times\n",
    "e appeared 5 times\n",
    "i appeared 1 time\n",
    "o appeared 2 times\n",
    "u appeared 0 time\n",
    "PRACTICE MAKES PERFECT "
   ]
  },
  {
   "cell_type": "raw",
   "id": "447efe09-02e3-40f3-955b-831b88a13108",
   "metadata": {},
   "source": [
    "\n",
    "\n",
    "def voooweel():\n",
    "    vowels = 'aeiou'\n",
    "    vowel_count = {v: 0 for v in vowels}\n",
    "    sentence = input(\"Enter a sentence: \")\n",
    "    for char in sentence.lower():\n",
    "        if char in vowels:\n",
    "            vowel_count[char] += 1\n",
    "    for v in vowels:\n",
    "        if vowel_count[v] == 1:\n",
    "            print(f\"{v} appeared {vowel_count[v]} time\")\n",
    "        else:\n",
    "            print(f\"{v} appeared {vowel_count[v]} times\")\n",
    "    print(sentence.upper())\n",
    "count_vowels()\n"
   ]
  },
  {
   "cell_type": "raw",
   "id": "9d9fe228-2ab1-483d-b836-3137f88b773d",
   "metadata": {},
   "source": [
    "Task6:\n",
    "You need write a function that traces and makes a list of all such numbers\n",
    "from1000 to 3000 in which all the digits are even numbers. "
   ]
  },
  {
   "cell_type": "code",
   "execution_count": 1,
   "id": "41805a7d-2f86-4109-ba16-9c64a7e54a4e",
   "metadata": {},
   "outputs": [
    {
     "name": "stdout",
     "output_type": "stream",
     "text": [
      "[2000, 2002, 2004, 2006, 2008, 2020, 2022, 2024, 2026, 2028, 2040, 2042, 2044, 2046, 2048, 2060, 2062, 2064, 2066, 2068, 2080, 2082, 2084, 2086, 2088, 2200, 2202, 2204, 2206, 2208, 2220, 2222, 2224, 2226, 2228, 2240, 2242, 2244, 2246, 2248, 2260, 2262, 2264, 2266, 2268, 2280, 2282, 2284, 2286, 2288, 2400, 2402, 2404, 2406, 2408, 2420, 2422, 2424, 2426, 2428, 2440, 2442, 2444, 2446, 2448, 2460, 2462, 2464, 2466, 2468, 2480, 2482, 2484, 2486, 2488, 2600, 2602, 2604, 2606, 2608, 2620, 2622, 2624, 2626, 2628, 2640, 2642, 2644, 2646, 2648, 2660, 2662, 2664, 2666, 2668, 2680, 2682, 2684, 2686, 2688, 2800, 2802, 2804, 2806, 2808, 2820, 2822, 2824, 2826, 2828, 2840, 2842, 2844, 2846, 2848, 2860, 2862, 2864, 2866, 2868, 2880, 2882, 2884, 2886, 2888]\n"
     ]
    }
   ],
   "source": [
    "def f_n_w():\n",
    "    even_digits = {'0', '2', '4', '6', '8'} \n",
    "    result = [] \n",
    "    for num in range(1000, 3001):\n",
    "        num_str = str(num)\n",
    "        if all(digit in even_digits for digit in num_str):\n",
    "            result.append(num)\n",
    "    return result\n",
    "numbers_with_even_digits = f_n_w()\n",
    "print(numbers_with_even_digits)\n",
    "\n",
    "\n",
    "\n"
   ]
  },
  {
   "cell_type": "raw",
   "id": "02601fe6-ca5d-4e7f-be40-f93af2162a2e",
   "metadata": {},
   "source": [
    "Task7:\n",
    "You need to write a code which accepts a sequence of comma separated 4 digit\n",
    "binary numbers as its input and then check whether they are divisible by 5 or not.\n",
    "The numbers that are divisible by 5 are to be printed in a comma separated\n",
    "sequence.\n",
    "Example:\n",
    "0100,0011,1010,1001\n",
    "Then the output should be:\n",
    "1010\n",
    "Reference: https://www.datacamp.com/.../python-data-type-conversion"
   ]
  },
  {
   "cell_type": "code",
   "execution_count": 3,
   "id": "0bb08a83-6893-4b34-9771-fa7abd10f4a7",
   "metadata": {},
   "outputs": [
    {
     "name": "stdout",
     "output_type": "stream",
     "text": [
      "1010\n"
     ]
    }
   ],
   "source": [
    "def d_b_f(binary_numbers):\n",
    "    binary_list = binary_numbers.split(',')\n",
    "    result = []\n",
    "    for binary in binary_list:\n",
    "        decimal = int(binary, 2)\n",
    "        if decimal % 5 == 0:\n",
    "            result.append(binary)\n",
    "    print(','.join(result))\n",
    "input_binary_numbers = \"0100,0011,1010,1001\"\n",
    "d_b_f(input_binary_numbers)"
   ]
  },
  {
   "cell_type": "raw",
   "id": "acadfa55-5bec-4ec8-9d49-ef064d0cb3bc",
   "metadata": {},
   "source": [
    "Task8:\n",
    "Write a program that accepts a sentence and calculate the number of letters and\n",
    "digits.\n",
    "Suppose the following input is supplied to the program:\n",
    "hello world! 123\n",
    "Then, the output should be:\n",
    "LETTERS 10\n",
    "DIGITS 3 "
   ]
  },
  {
   "cell_type": "code",
   "execution_count": 5,
   "id": "55ebc153-4bdc-4359-8f21-a458dee1d536",
   "metadata": {},
   "outputs": [
    {
     "name": "stdout",
     "output_type": "stream",
     "text": [
      "LETTERS 10\n",
      "DIGITS 3\n"
     ]
    }
   ],
   "source": [
    "def count_letters_digits(sentence):\n",
    "    letters_count = 0\n",
    "    digits_count = 0\n",
    "    for char in sentence:\n",
    "        if char.isalpha(): \n",
    "            letters_count += 1\n",
    "        elif char.isdigit(): \n",
    "            digits_count += 1\n",
    "    print(f\"LETTERS {letters_count}\")\n",
    "    print(f\"DIGITS {digits_count}\")\n",
    "input_sentence = \"hello world! 123\"\n",
    "count_letters_digits(input_sentence)"
   ]
  },
  {
   "cell_type": "code",
   "execution_count": null,
   "id": "86f468ec-341c-4cea-a5c9-d668a8df8d54",
   "metadata": {},
   "outputs": [],
   "source": []
  }
 ],
 "metadata": {
  "kernelspec": {
   "display_name": "Python 3 (ipykernel)",
   "language": "python",
   "name": "python3"
  },
  "language_info": {
   "codemirror_mode": {
    "name": "ipython",
    "version": 3
   },
   "file_extension": ".py",
   "mimetype": "text/x-python",
   "name": "python",
   "nbconvert_exporter": "python",
   "pygments_lexer": "ipython3",
   "version": "3.12.7"
  }
 },
 "nbformat": 4,
 "nbformat_minor": 5
}
