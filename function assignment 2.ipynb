{
 "cells": [
  {
   "cell_type": "raw",
   "id": "ede525d6-8a25-4e26-8e90-6f5373141ac4",
   "metadata": {},
   "source": [
    "Write a Python function to find the maximum of three numbers."
   ]
  },
  {
   "cell_type": "code",
   "execution_count": 3,
   "id": "35800fcf-6a42-4b14-9a1d-3efd467bf468",
   "metadata": {},
   "outputs": [
    {
     "name": "stdout",
     "output_type": "stream",
     "text": [
      "2345\n"
     ]
    }
   ],
   "source": [
    "def find_max(a, b, c,d,e,f):\n",
    "    if a >= b and a >= c:\n",
    "        return a\n",
    "    elif b >= a and b >= c:\n",
    "        return b\n",
    "    else:\n",
    "        return c\n",
    "print(find_max(10,2345, 20,37,50, 15)) "
   ]
  },
  {
   "cell_type": "raw",
   "id": "025b0faf-9340-4a8d-ab0a-7119397cd592",
   "metadata": {},
   "source": [
    "Write a Python function to sum all the numbers in a list.\n",
    "Sample List : (8, 2, 3, 0, 7)\n",
    "Expected Output : 20 "
   ]
  },
  {
   "cell_type": "code",
   "execution_count": 13,
   "id": "2ee6a1c9-a7ac-46ad-8a7a-ff440929e8cc",
   "metadata": {},
   "outputs": [
    {
     "name": "stdout",
     "output_type": "stream",
     "text": [
      "20\n"
     ]
    }
   ],
   "source": [
    "def sum_numbers(numbers):\n",
    "    total = 0\n",
    "    for number in numbers:\n",
    "        total += number\n",
    "    return total\n",
    "sample_list = [8, 2, 3, 0, 7]\n",
    "print(sum_numbers(sample_list))"
   ]
  },
  {
   "cell_type": "raw",
   "id": "a6a5c7fa-d5bd-466c-acc7-acfff84ec4be",
   "metadata": {},
   "source": [
    "Write a Python function to multiply all the numbers in a list.\n",
    "Sample List : (8, 2, 3, -1, 7)\n",
    "Expected Output : -336 "
   ]
  },
  {
   "cell_type": "code",
   "execution_count": 1,
   "id": "3039c8c6-cf9c-4af9-8d60-12737b1798c4",
   "metadata": {},
   "outputs": [
    {
     "name": "stdout",
     "output_type": "stream",
     "text": [
      "-336\n"
     ]
    }
   ],
   "source": [
    "def multiply_numbers(numbers):\n",
    "    result = 1\n",
    "    for num in numbers:\n",
    "        result *= num\n",
    "    return result\n",
    "sample_list = [8, 2, 3, -1, 7]\n",
    "output = multiply_numbers(sample_list)\n",
    "print(output)"
   ]
  },
  {
   "cell_type": "raw",
   "id": "d6103c46-6196-4adb-b875-03cef2491569",
   "metadata": {},
   "source": [
    "Write a Python program to reverse a string.\n",
    "Sample String : \"1234abcd\"\n",
    "Expected Output : \"dcba4321\""
   ]
  },
  {
   "cell_type": "code",
   "execution_count": 2,
   "id": "6a4885f2-18cd-4dff-99d3-d63ce29b5eaf",
   "metadata": {},
   "outputs": [
    {
     "name": "stdout",
     "output_type": "stream",
     "text": [
      "Reversed String: dcba4321\n"
     ]
    }
   ],
   "source": [
    "sample_string = \"1234abcd\"\n",
    "reversed_string = sample_string[::-1]\n",
    "print(\"Reversed String:\", reversed_string)"
   ]
  },
  {
   "cell_type": "raw",
   "id": "9112f01b-05a2-48ab-8f81-72e8ea2eca60",
   "metadata": {},
   "source": [
    "Write a Python function to calculate the factorial of a number (a non-negative\n",
    "integer). The function accepts the number as an argument. "
   ]
  },
  {
   "cell_type": "code",
   "execution_count": 5,
   "id": "cf809622-d941-4175-97bb-75e8d9c87b10",
   "metadata": {},
   "outputs": [
    {
     "name": "stdout",
     "output_type": "stream",
     "text": [
      "Factorial of 5 is 120\n"
     ]
    }
   ],
   "source": [
    "def factorial(n):\n",
    "    if n < 0:\n",
    "        raise ValueError(\"The input must be a non-negative integer.\") 1\n",
    "    if n == 0 or n == 1:\n",
    "        return 1\n",
    "    return n * factorial(n - 1)\n",
    "num = 5\n",
    "print(f\"Factorial of {num} is {factorial(num)}\")"
   ]
  },
  {
   "cell_type": "raw",
   "id": "2c37ecea-b09d-4fad-b4be-005009eecae0",
   "metadata": {},
   "source": [
    "Write a Python function to check whether a number falls within a given range"
   ]
  },
  {
   "cell_type": "code",
   "execution_count": 6,
   "id": "6836cf9b-fbd4-4a6c-8a0d-931d472d61af",
   "metadata": {},
   "outputs": [
    {
     "name": "stdout",
     "output_type": "stream",
     "text": [
      "Is 7 within the range 5 to 10? True\n"
     ]
    }
   ],
   "source": [
    "def is_within_range(number, start, end):\n",
    "    if start <= number <= end:\n",
    "        return True\n",
    "    else:\n",
    "        return False\n",
    "num = 7\n",
    "start_range = 5\n",
    "end_range = 10\n",
    "print(f\"Is {num} within the range {start_range} to {end_range}? {is_within_range(num, start_range, end_range)}\")"
   ]
  },
  {
   "cell_type": "raw",
   "id": "e20d957b-19f2-49a1-ad50-f15679d2473c",
   "metadata": {},
   "source": [
    "Write a Python function that accepts a string and counts the number of upper\n",
    "and lower case letters.\n",
    "Sample String : 'The quick Brow Fox'\n",
    "Expected Output :\n",
    "No. of Upper case characters : 3\n",
    "No. of Lower case Characters : 12"
   ]
  },
  {
   "cell_type": "code",
   "execution_count": 1,
   "id": "02c89463-52f4-4e87-b434-3207cb15ee4a",
   "metadata": {},
   "outputs": [
    {
     "name": "stdout",
     "output_type": "stream",
     "text": [
      "No. of Upper case characters : 3\n",
      "No. of Lower case characters : 12\n"
     ]
    }
   ],
   "source": [
    "def count_case(s):\n",
    "    upper_case_count = 0\n",
    "    lower_case_count = 0\n",
    "    for char in s:\n",
    "        if char.isupper():\n",
    "            upper_case_count += 1\n",
    "        elif char.islower():\n",
    "            lower_case_count += 1\n",
    "    print(f'No. of Upper case characters : {upper_case_count}')\n",
    "    print(f'No. of Lower case characters : {lower_case_count}')\n",
    "sample_string = 'The quick Brow Fox'\n",
    "count_case(sample_string)"
   ]
  },
  {
   "cell_type": "raw",
   "id": "52516f4d-c3c9-48ab-b86a-4c552b448b49",
   "metadata": {},
   "source": [
    "Write a Python function that takes a list and returns a new list with distinct\n",
    "elements from the first list.\n",
    "Sample List : [1,2,3,3,3,3,4,5]\n",
    "Unique List : [1, 2, 3, 4, 5] "
   ]
  },
  {
   "cell_type": "code",
   "execution_count": null,
   "id": "44e3e554-f032-4fda-8e7d-a63ff18e4ad9",
   "metadata": {},
   "outputs": [],
   "source": [
    "def get_unique_elements(lst):\n",
    "    unique_lst = list(set(lst))\n",
    "    return unique_lst\n",
    "sample_list = [1, 2, 3, 3, 3, 3, 4, 5]\n",
    "unique_list = get_unique_elements(sample_list)\n",
    "print(\"Unique List:\", unique_list)"
   ]
  },
  {
   "cell_type": "raw",
   "id": "392df75d-ae4e-4fe6-9f8a-06ff870ee603",
   "metadata": {},
   "source": [
    "Write a Python function that takes a number as a parameter and checks\n",
    "whether the number is prime or not.\n",
    "Note : A prime number (or a prime) is a natural number greater than 1 and that\n",
    "has no positive divisors other than 1 and itself. "
   ]
  },
  {
   "cell_type": "code",
   "execution_count": 3,
   "id": "ffcbd90c-1360-4eb5-b1c4-3a264ea82f9c",
   "metadata": {},
   "outputs": [
    {
     "name": "stdout",
     "output_type": "stream",
     "text": [
      "Is 29 prime? True\n"
     ]
    }
   ],
   "source": [
    "import math\n",
    "def is_prime(num):\n",
    "    if num <= 1:\n",
    "        return False\n",
    "    for i in range(2, int(math.sqrt(num)) + 1):\n",
    "        if num % i == 0:\n",
    "            return False \n",
    "    return True \n",
    "sample_number = 29\n",
    "print(f\"Is {sample_number} prime? {is_prime(sample_number)}\")"
   ]
  },
  {
   "cell_type": "raw",
   "id": "a1dbe5d8-e4f0-4096-a99d-529f4c685aae",
   "metadata": {},
   "source": [
    "Write a Python program to print the even numbers from a given list.\n",
    "Sample List : [1, 2, 3, 4, 5, 6, 7, 8, 9]\n",
    "Expected Result : [2, 4, 6, 8] "
   ]
  },
  {
   "cell_type": "code",
   "execution_count": 4,
   "id": "f5294893-ef3f-4578-bd33-39cf5debc11f",
   "metadata": {},
   "outputs": [
    {
     "name": "stdout",
     "output_type": "stream",
     "text": [
      "Even numbers: [2, 4, 6, 8]\n"
     ]
    }
   ],
   "source": [
    "def get_even_numbers(lst):\n",
    "    even_numbers = [num for num in lst if num % 2 == 0]\n",
    "    return even_numbers\n",
    "sample_list = [1, 2, 3, 4, 5, 6, 7, 8, 9]\n",
    "result = get_even_numbers(sample_list)\n",
    "print(\"Even numbers:\", result)"
   ]
  },
  {
   "cell_type": "raw",
   "id": "5e4e8790-3bc4-406f-91f0-a6c1a5dddc6a",
   "metadata": {},
   "source": [
    "Write a Python function to check whether a number is \"Perfect\" or not.\n",
    "According to Wikipedia : In number theory, a perfect number is a positive integer\n",
    "that is equal to the sum of its proper positive divisors, that is, the sum of its\n",
    "positive divisors excluding the number itself (also known as its aliquot sum).\n",
    "Equivalently, a perfect number is a number that is half the sum of all of its\n",
    "positive divisors (including itself).\n",
    "Example : The first perfect number is 6, because 1, 2, and 3 are its proper positive\n",
    "divisors, and 1 + 2 + 3 = 6. Equivalently, the number 6 is equal to half the sum of\n",
    "all its positive divisors: ( 1 + 2 + 3 + 6 ) / 2 = 6. The next perfect number is 28 = 1 +\n",
    "2 + 4 + 7 + 14. This is followed by the perfect numbers 496 and 8128."
   ]
  },
  {
   "cell_type": "code",
   "execution_count": 5,
   "id": "c05ab798-06d7-41c5-bdf6-5461a8b6fb73",
   "metadata": {},
   "outputs": [
    {
     "name": "stdout",
     "output_type": "stream",
     "text": [
      "28 is a perfect number.\n"
     ]
    }
   ],
   "source": [
    "def is_perfect_number(num):\n",
    "    if num <= 1:\n",
    "        return False\n",
    "    sum_of_divisors = 0\n",
    "    for i in range(1, num // 2 + 1):\n",
    "        if num % i == 0:  \n",
    "            sum_of_divisors += i\n",
    "    return sum_of_divisors == num\n",
    "sample_number = 28\n",
    "if is_perfect_number(sample_number):\n",
    "    print(f\"{sample_number} is a perfect number.\")\n",
    "else:\n",
    "    print(f\"{sample_number} is not a perfect number.\")"
   ]
  },
  {
   "cell_type": "raw",
   "id": "44074718-2801-40ae-be5a-88e4009c9ebf",
   "metadata": {},
   "source": [
    "Write a Python function that checks whether a passed string is a palindrome\n",
    "or not.\n",
    "Note: A palindrome is a word, phrase, or sequence that reads the same backward\n",
    "as forward, e.g., madam or nurses run. "
   ]
  },
  {
   "cell_type": "code",
   "execution_count": 2,
   "id": "733eed87-6b29-47da-82c6-7adac8fb99f1",
   "metadata": {},
   "outputs": [
    {
     "name": "stdin",
     "output_type": "stream",
     "text": [
      "Enter a string:  djh\n"
     ]
    },
    {
     "name": "stdout",
     "output_type": "stream",
     "text": [
      "The string is not a palindrome.\n"
     ]
    }
   ],
   "source": [
    "def is_palindrome(input_string):\n",
    "    normalized_string = ''.join(input_string.split()).lower()\n",
    "    return normalized_string == normalized_string[::-1]\n",
    "input_string = input(\"Enter a string: \")\n",
    "if is_palindrome(input_string):\n",
    "    print(\"The string is a palindrome.\")\n",
    "else:\n",
    "    print(\"The string is not a palindrome.\")"
   ]
  },
  {
   "cell_type": "code",
   "execution_count": null,
   "id": "ded215d9-746e-4433-bfec-b2b7315fed63",
   "metadata": {},
   "outputs": [],
   "source": []
  }
 ],
 "metadata": {
  "kernelspec": {
   "display_name": "Python 3 (ipykernel)",
   "language": "python",
   "name": "python3"
  },
  "language_info": {
   "codemirror_mode": {
    "name": "ipython",
    "version": 3
   },
   "file_extension": ".py",
   "mimetype": "text/x-python",
   "name": "python",
   "nbconvert_exporter": "python",
   "pygments_lexer": "ipython3",
   "version": "3.12.7"
  }
 },
 "nbformat": 4,
 "nbformat_minor": 5
}
