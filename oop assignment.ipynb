{
 "cells": [
  {
   "cell_type": "raw",
   "id": "5bd86a7b-f58e-4f00-aced-0317831a4e08",
   "metadata": {},
   "source": [
    "Write a Python program to create a class called \"Person\" with properties for\n",
    "name, age and country. Include a method to display the person's details. Create\n",
    "two instances of the 'Person' class and display their details. "
   ]
  },
  {
   "cell_type": "code",
   "execution_count": 2,
   "id": "75aca6ff-d9e2-4b88-9501-7a12ac4f4a8d",
   "metadata": {},
   "outputs": [
    {
     "name": "stdout",
     "output_type": "stream",
     "text": [
      "Person 1 Details:\n",
      "Name: Alice\n",
      "Age: 30\n",
      "Country: USA\n",
      "\n",
      "Person 2 Details:\n",
      "Name: Bob\n",
      "Age: 25\n",
      "Country: Canada\n"
     ]
    }
   ],
   "source": [
    "class Person:\n",
    "    def __init__(self, name, age, country):\n",
    "        self.name = name\n",
    "        self.age = age\n",
    "        self.country = country\n",
    "    \n",
    "    def display_details(self):\n",
    "        print(f\"Name: {self.name}\")\n",
    "        print(f\"Age: {self.age}\")\n",
    "        print(f\"Country: {self.country}\")\n",
    "person1 = Person(\"Alice\", 30, \"USA\")\n",
    "person2 = Person(\"Bob\", 25, \"Canada\")\n",
    "print(\"Person 1 Details:\")\n",
    "person1.display_details()\n",
    "print(\"\\nPerson 2 Details:\")\n",
    "person2.display_details()"
   ]
  },
  {
   "cell_type": "raw",
   "id": "adb80133-4643-4393-aae3-edb2ee298b6f",
   "metadata": {},
   "source": [
    " Write a Python program to create a class called 'Rectangle' with properties for\n",
    "width and height. Include two methods to calculate rectangle area and perimeter.\n",
    "Create an instance of the 'Rectangle' class and calculate its area and perimeter."
   ]
  },
  {
   "cell_type": "code",
   "execution_count": 3,
   "id": "d26f29a6-fb62-4cee-92a8-33209bfb762d",
   "metadata": {},
   "outputs": [
    {
     "name": "stdout",
     "output_type": "stream",
     "text": [
      "Area of rectangle: 15\n",
      "Perimeter of rectangle: 16\n"
     ]
    }
   ],
   "source": [
    "class Rectangle:\n",
    "    def __init__(self, width, height):\n",
    "        self.width = width \n",
    "        self.height = height  \n",
    "    def area(self):\n",
    "        return self.width * self.height\n",
    "    def perimeter(self):\n",
    "        return 2 * (self.width + self.height)\n",
    "rectangle = Rectangle(5, 3)\n",
    "print(\"Area of rectangle:\", rectangle.area())  \n",
    "print(\"Perimeter of rectangle:\", rectangle.perimeter())"
   ]
  },
  {
   "cell_type": "raw",
   "id": "2acb8d3d-0bad-4a20-86e1-d2a26c194ebc",
   "metadata": {},
   "source": [
    "Write a Python program that creates a class called 'Vehicle' with properties for\n",
    "make, model, and year. Include a method to display vehicle details. Create a\n",
    "subclass called 'Car' that inherits from the 'Vehicle' class and includes an\n",
    "additional property for the number of doors. Override the display method to\n",
    "include the number of doors. "
   ]
  },
  {
   "cell_type": "code",
   "execution_count": null,
   "id": "e7b8823d-6c32-4531-a86d-1987f435a24d",
   "metadata": {},
   "outputs": [],
   "source": [
    "# Base class: Vehicle\n",
    "class Vehicle:\n",
    "    def __init__(self, make, model, year):\n",
    "        self.make = make     \n",
    "        self.model = model    \n",
    "        self.year = year      \n",
    "    def display(self):\n",
    "        print(f\"Vehicle Details:\\nMake: {self.make}\\nModel: {self.model}\\nYear: {self.year}\")\n",
    "class Car(Vehicle):\n",
    "    def __init__(self, make, model, year, num_doors):\n",
    "        super().__init__(make, model, year)\n",
    "        self.num_doors = num_doors  \n",
    "\n",
    "    def display(self):\n",
    "        super().display() \n",
    "        print(f\"Number of Doors: {self.num_doors}\")\n",
    "vehicle = Vehicle(\"Toyota\", \"Corolla\", 2020)\n",
    "vehicle.display()\n",
    "print()\n",
    "car = Car(\"Honda\", \"Civic\", 2022, 4)\n",
    "car.display()"
   ]
  },
  {
   "cell_type": "raw",
   "id": "afa350ac-7897-4225-9903-ebc65cc53105",
   "metadata": {},
   "source": [
    "Write a Python program that creates a class called \"BankAccount\" with\n",
    "properties for account number and balance. Include methods to deposit and\n",
    "withdraw money from the account. Create some instances of the \"BankAccount\"\n",
    "class, deposit some money, and withdraw a portion of it."
   ]
  },
  {
   "cell_type": "code",
   "execution_count": null,
   "id": "e034f0a3-d78b-4935-9b82-2e8a3fd9a15d",
   "metadata": {},
   "outputs": [],
   "source": [
    "class BankAccount:\n",
    "    def __init__(self, account_number, balance=0.0):\n",
    "        self.account_number = account_number \n",
    "        self.balance = balance \n",
    "    def deposit(self, amount):\n",
    "        \"\"\"Method to deposit money into the account.\"\"\"\n",
    "        if amount > 0:\n",
    "            self.balance += amount\n",
    "            print(f\"Deposited ${amount}. New balance is: ${self.balance}\")\n",
    "        else:\n",
    "            print(\"Deposit amount must be positive.\")\n",
    "    def withdraw(self, amount):\n",
    "        \"\"\"Method to withdraw money from the account.\"\"\"\n",
    "        if amount > 0:\n",
    "            if amount <= self.balance:\n",
    "                self.balance -= amount\n",
    "                print(f\"Withdrew ${amount}. New balance is: ${self.balance}\")\n",
    "            else:\n",
    "                print(\"Insufficient funds for this withdrawal.\")\n",
    "        else:\n",
    "            print(\"Withdrawal amount must be positive.\")\n",
    "\n",
    "    def get_balance(self):\n",
    "        \"\"\"Method to get the current balance.\"\"\"\n",
    "        return self.balance\n",
    "account1 = BankAccount(\"12345\", 1000)\n",
    "account2 = BankAccount(\"67890\", 500)\n",
    "account1.deposit(500)  \n",
    "account1.withdraw(200) \n",
    "account2.deposit(300)  \n",
    "account2.withdraw(100) \n",
    "print(f\"Account 1 Final Balance: ${account1.get_balance()}\")\n",
    "print(f\"Account 2 Final Balance: ${account2.get_balance()}\")\n",
    "\n"
   ]
  },
  {
   "cell_type": "raw",
   "id": "03eb5221-ff67-4fe9-9bdf-4ee6af6cefd6",
   "metadata": {},
   "source": [
    "Write a Python program that creates a class called 'Shape' with a method to\n",
    "calculate the area. Create two subclasses, 'Circle' and 'Triangle', that inherit from\n",
    "the 'Shape' class and override the area calculation method. Create an instance of\n",
    "the 'Circle' class and calculate its area. Similarly, do the same for the 'Triangle'\n",
    "class. "
   ]
  },
  {
   "cell_type": "code",
   "execution_count": 7,
   "id": "dca835dc-46cd-4fae-aa4e-e3207e48e14c",
   "metadata": {},
   "outputs": [
    {
     "name": "stdout",
     "output_type": "stream",
     "text": [
      "Area of Circle: 78.53981633974483\n",
      "Area of Triangle: 12.0\n"
     ]
    }
   ],
   "source": [
    "import math\n",
    "class Shape:\n",
    "    def area(self):\n",
    "        \"\"\"Method to calculate the area of the shape. This will be overridden by subclasses.\"\"\"\n",
    "        raise NotImplementedError(\"Subclasses must implement this method\")\n",
    "class Circle(Shape):\n",
    "    def __init__(self, radius):\n",
    "        self.radius = radius \n",
    "    def area(self):\n",
    "        \"\"\"Override the area method to calculate the area of a circle.\"\"\"\n",
    "        return math.pi * (self.radius ** 2)\n",
    "class Triangle(Shape):\n",
    "    def __init__(self, base, height):\n",
    "        self.base = base \n",
    "        self.height = height  \n",
    "    def area(self):\n",
    "        \"\"\"Override the area method to calculate the area of a triangle.\"\"\"\n",
    "        return 0.5 * self.base * self.height\n",
    "circle = Circle(5)  \n",
    "print(f\"Area of Circle: {circle.area()}\")\n",
    "triangle = Triangle(4, 6) \n",
    "print(f\"Area of Triangle: {triangle.area()}\")"
   ]
  },
  {
   "cell_type": "raw",
   "id": "4622d8fd-663b-4835-b797-612cfb567185",
   "metadata": {},
   "source": [
    "Write a Python program that creates a class called 'Employee' with properties\n",
    "for name and salary. Include a method to calculate annual salary. Create a\n",
    "subclass called 'Manager' that inherits from the 'Employee' class and adds an\n",
    "additional property for department. Override the annual salary calculation method\n",
    "to include bonuses for managers. Create two instances of the 'Manager' class\n",
    "and calculate their annual salary. "
   ]
  },
  {
   "cell_type": "code",
   "execution_count": 8,
   "id": "40c88c8d-ad42-4d1c-8580-c0a2bf1700e1",
   "metadata": {},
   "outputs": [
    {
     "name": "stdout",
     "output_type": "stream",
     "text": [
      "Alice (Sales department) - Annual Salary: $66000.0\n",
      "Bob (Marketing department) - Annual Salary: $79200.0\n"
     ]
    }
   ],
   "source": [
    "class Employee:\n",
    "    def __init__(self, name, salary):\n",
    "        self.name = name    \n",
    "        self.salary = salary \n",
    "    def annual_salary(self):\n",
    "        \"\"\"Method to calculate annual salary of an employee (monthly salary * 12).\"\"\"\n",
    "        return self.salary * 12\n",
    "class Manager(Employee):\n",
    "    def __init__(self, name, salary, department):\n",
    "        super().__init__(name, salary)\n",
    "        self.department = department \n",
    "    def annual_salary(self):\n",
    "        \"\"\"Override the annual_salary method to include a bonus for managers.\"\"\"\n",
    "        base_salary = super().annual_salary() \n",
    "        bonus = base_salary * 0.10  \n",
    "        return base_salary + bonus  \n",
    "manager1 = Manager(\"Alice\", 5000, \"Sales\")\n",
    "manager2 = Manager(\"Bob\", 6000, \"Marketing\")\n",
    "print(f\"{manager1.name} ({manager1.department} department) - Annual Salary: ${manager1.annual_salary()}\")\n",
    "print(f\"{manager2.name} ({manager2.department} department) - Annual Salary: ${manager2.annual_salary()}\")"
   ]
  },
  {
   "cell_type": "raw",
   "id": "ee4f170e-fabd-41ec-8d7b-b69f1d427201",
   "metadata": {},
   "source": [
    "Write a Python program that creates a class `Book` with properties for title,\n",
    "author, and publication year. Include a method to display book details. Create a\n",
    "subclass called 'Ebook' that inherits from the 'Book' class and includes an\n",
    "additional property for book price. Override the display method to include the\n",
    "book price. Create an instance of the 'Ebook' class and display its details"
   ]
  },
  {
   "cell_type": "code",
   "execution_count": 9,
   "id": "eff9ea90-6067-4303-97e1-dd65b7345931",
   "metadata": {},
   "outputs": [
    {
     "name": "stdout",
     "output_type": "stream",
     "text": [
      "Book Details:\n",
      "Title: Python Programming\n",
      "Author: John Doe\n",
      "Publication Year: 2023\n",
      "Price: $19.99\n"
     ]
    }
   ],
   "source": [
    "class Book:\n",
    "    def __init__(self, title, author, publication_year):\n",
    "        self.title = title             \n",
    "        self.author = author          \n",
    "        self.publication_year = publication_year  \n",
    "    def display(self):\n",
    "        \"\"\"Method to display book details.\"\"\"\n",
    "        print(f\"Book Details:\\nTitle: {self.title}\\nAuthor: {self.author}\\nPublication Year: {self.publication_year}\")\n",
    "class Ebook(Book):\n",
    "    def __init__(self, title, author, publication_year, price):\n",
    "        super().__init__(title, author, publication_year)\n",
    "        self.price = price  \n",
    "    def display(self):\n",
    "        \"\"\"Override the display method to include the book price.\"\"\"\n",
    "        super().display()  \n",
    "        print(f\"Price: ${self.price}\")\n",
    "ebook = Ebook(\"Python Programming\", \"John Doe\", 2023, 19.99)\n",
    "ebook.display()"
   ]
  },
  {
   "cell_type": "raw",
   "id": "9a96aea6-dfa8-4951-992c-0faa1d55f442",
   "metadata": {},
   "source": [
    "Write a Python program that creates a class called 'Animal' with properties for\n",
    "species and sound. Include a method to make the animal's sound. Create a\n",
    "subclass called 'Dog' that inherits from the 'Animal' class and adds an additional\n",
    "property for color. Override the make sound method to include the dog's color.\n",
    "Create an instance of the 'Dog' class and make it make its sound"
   ]
  },
  {
   "cell_type": "code",
   "execution_count": 10,
   "id": "0c5b8ec5-603c-4805-8784-b9fe21cdef9d",
   "metadata": {},
   "outputs": [
    {
     "name": "stdout",
     "output_type": "stream",
     "text": [
      "The brown dog says 'woof'\n"
     ]
    }
   ],
   "source": [
    "# Base class: Animal\n",
    "class Animal:\n",
    "    def __init__(self, species, sound):\n",
    "        self.species = species \n",
    "        self.sound = sound     \n",
    "    def make_sound(self):\n",
    "        \"\"\"Method to make the animal's sound.\"\"\"\n",
    "        print(f\"The {self.species} goes '{self.sound}'\")\n",
    "class Dog(Animal):\n",
    "    def __init__(self, species, sound, color):\n",
    "        super().__init__(species, sound)\n",
    "        self.color = color \n",
    "    def make_sound(self):\n",
    "        \"\"\"Override the make_sound method to include the dog's color.\"\"\"\n",
    "        print(f\"The {self.color} dog says '{self.sound}'\")\n",
    "dog = Dog(\"dog\", \"woof\", \"brown\")\n",
    "dog.make_sound()"
   ]
  },
  {
   "cell_type": "raw",
   "id": "fb013995-e958-4605-84cf-f01d4b5f16eb",
   "metadata": {},
   "source": [
    "Write a Python program that creates a class called Bank with properties for\n",
    "bank names and branches. Include methods to add a branch, remove a branch,\n",
    "and display all branches. Create an instance of the Bank class and perform\n",
    "operations to add and remove branches. "
   ]
  },
  {
   "cell_type": "code",
   "execution_count": 11,
   "id": "2cb5c493-ea35-4c31-b5b8-d4e6d250617b",
   "metadata": {},
   "outputs": [
    {
     "name": "stdout",
     "output_type": "stream",
     "text": [
      "Branch 'Main Branch' added to CityBank.\n",
      "Branch 'North Branch' added to CityBank.\n",
      "Branch 'South Branch' added to CityBank.\n",
      "Branches of CityBank:\n",
      "- Main Branch\n",
      "- North Branch\n",
      "- South Branch\n",
      "Branch 'North Branch' removed from CityBank.\n",
      "Branches of CityBank:\n",
      "- Main Branch\n",
      "- South Branch\n",
      "Branch 'East Branch' does not exist in CityBank.\n"
     ]
    }
   ],
   "source": [
    "class Bank:\n",
    "    def __init__(self, bank_name):\n",
    "        self.bank_name = bank_name  \n",
    "        self.branches = []         \n",
    "    def add_branch(self, branch_name):\n",
    "        \"\"\"Method to add a branch to the bank.\"\"\"\n",
    "        self.branches.append(branch_name)\n",
    "        print(f\"Branch '{branch_name}' added to {self.bank_name}.\")\n",
    "    def remove_branch(self, branch_name):\n",
    "        \"\"\"Method to remove a branch from the bank.\"\"\"\n",
    "        if branch_name in self.branches:\n",
    "            self.branches.remove(branch_name)\n",
    "            print(f\"Branch '{branch_name}' removed from {self.bank_name}.\")\n",
    "        else:\n",
    "            print(f\"Branch '{branch_name}' does not exist in {self.bank_name}.\")\n",
    "    def display_branches(self):\n",
    "        \"\"\"Method to display all branches of the bank.\"\"\"\n",
    "        if self.branches:\n",
    "            print(f\"Branches of {self.bank_name}:\")\n",
    "            for branch in self.branches:\n",
    "                print(f\"- {branch}\")\n",
    "        else:\n",
    "            print(f\"No branches available for {self.bank_name}.\")\n",
    "my_bank = Bank(\"CityBank\")\n",
    "my_bank.add_branch(\"Main Branch\")\n",
    "my_bank.add_branch(\"North Branch\")\n",
    "my_bank.add_branch(\"South Branch\")\n",
    "my_bank.display_branches()\n",
    "my_bank.remove_branch(\"North Branch\")\n",
    "my_bank.display_branches()\n",
    "my_bank.remove_branch(\"East Branch\")"
   ]
  },
  {
   "cell_type": "raw",
   "id": "0bfa1f6d-8ed3-4f5e-af84-105dbdbe1ca2",
   "metadata": {},
   "source": [
    ". Write a Python program that creates a class called Product with properties for\n",
    "product ID, name, and price. Include a method to calculate the total price by\n",
    "multiplying the price by the quantity. Create a subclass called\n",
    "PersonalCareProduct that inherits from the Product class and adds an additional\n",
    "property for the warranty period. Override the total price calculation method to\n",
    "include the warranty period. Create an instance of the PersonalCareProduct\n",
    "class and calculate its total price. "
   ]
  },
  {
   "cell_type": "code",
   "execution_count": 13,
   "id": "a3ab9da1-b059-47e2-8505-a078f5a3a624",
   "metadata": {},
   "outputs": [
    {
     "name": "stdout",
     "output_type": "stream",
     "text": [
      "Total price for 5 units of Electric Toothbrush with warranty: $245\n"
     ]
    }
   ],
   "source": [
    "# Base class: Product\n",
    "class Product:\n",
    "    def __init__(self, product_id, name, price):\n",
    "        self.product_id = product_id  \n",
    "        self.name = name             \n",
    "        self.price = price           \n",
    "    def total_price(self, quantity):\n",
    "        \"\"\"Method to calculate total price by multiplying price by quantity.\"\"\"\n",
    "        return self.price * quantity\n",
    "class PCP(Product):\n",
    "    def __init__(self, product_id, name, price, warranty_period):\n",
    "        super().__init__(product_id, name, price)\n",
    "        self.warranty_period = warranty_period  \n",
    "    def total_price(self, quantity):\n",
    "        \"\"\"Override the total price calculation to include warranty period.\"\"\"\n",
    "        base_price = super().total_price(quantity)  \n",
    "        warranty_cost = 15 * self.warranty_period   \n",
    "        return base_price + warranty_cost  \n",
    "p_c_p = PCP(101, \"Electric Toothbrush\", 40, 3)\n",
    "quantity = 5\n",
    "total = p_c_p.total_price(quantity)\n",
    "print(f\"Total price for {quantity} units of {p_c_p.name} with warranty: ${total}\")"
   ]
  },
  {
   "cell_type": "raw",
   "id": "23b31b02-08c0-455b-a9e6-bb36f4196e4c",
   "metadata": {},
   "source": [
    "Write a Python program that creates a class called BankAccount with\n",
    "properties for account number, account holder name, and balance. Include\n",
    "methods to deposit, withdraw, and transfer money between accounts. Create\n",
    "multiple instances of the BankAccount class and perform operations such as\n",
    "depositing, withdrawing, and transferring money. "
   ]
  },
  {
   "cell_type": "code",
   "execution_count": 14,
   "id": "4fe271a1-5c54-47c1-88c2-b754f8a635d1",
   "metadata": {},
   "outputs": [
    {
     "name": "stdout",
     "output_type": "stream",
     "text": [
      "Deposited $200. New balance: $700\n",
      "Withdrew $100. New balance: $600\n",
      "Deposited $150. New balance: $450\n",
      "Withdrew $50. New balance: $400\n",
      "Transferred $200 to account 1002.\n",
      "Your new balance: $400\n",
      "Recipient's new balance: $600\n"
     ]
    }
   ],
   "source": [
    "class BankAccount:\n",
    "    def __init__(self, account_number, account_holder_name, balance=0):\n",
    "        self.account_number = account_number \n",
    "        self.account_holder_name = account_holder_name  \n",
    "        self.balance = balance  \n",
    "    def deposit(self, amount):\n",
    "        \"\"\"Method to deposit money into the account.\"\"\"\n",
    "        if amount > 0:\n",
    "            self.balance += amount\n",
    "            print(f\"Deposited ${amount}. New balance: ${self.balance}\")\n",
    "        else:\n",
    "            print(\"Deposit amount must be positive.\")\n",
    "    def withdraw(self, amount):\n",
    "        \"\"\"Method to withdraw money from the account.\"\"\"\n",
    "        if amount > 0 and amount <= self.balance:\n",
    "            self.balance -= amount\n",
    "            print(f\"Withdrew ${amount}. New balance: ${self.balance}\")\n",
    "        elif amount > self.balance:\n",
    "            print(\"Insufficient funds.\")\n",
    "        else:\n",
    "            print(\"Withdrawal amount must be positive.\")\n",
    "    def transfer(self, amount, target_account):\n",
    "        \"\"\"Method to transfer money to another account.\"\"\"\n",
    "        if amount > 0 and amount <= self.balance:\n",
    "            self.balance -= amount\n",
    "            target_account.balance += amount\n",
    "            print(f\"Transferred ${amount} to account {target_account.account_number}.\")\n",
    "            print(f\"Your new balance: ${self.balance}\")\n",
    "            print(f\"Recipient's new balance: ${target_account.balance}\")\n",
    "        else:\n",
    "            print(\"Transfer failed: Insufficient funds or invalid amount.\")\n",
    "account1 = BankAccount(1001, \"John Doe\", 500)\n",
    "account2 = BankAccount(1002, \"Jane Smith\", 300)\n",
    "account1.deposit(200)  \n",
    "account1.withdraw(100) \n",
    "account2.deposit(150)  \n",
    "account2.withdraw(50) \n",
    "account1.transfer(200, account2)"
   ]
  },
  {
   "cell_type": "raw",
   "id": "b7c297d9-bb5b-454a-9318-4923fe79da88",
   "metadata": {},
   "source": [
    "Write a Python program that creates a class called University with properties\n",
    "for university name and departments. Include methods to add a department,\n",
    "remove a department, and display all departments. Create an instance of the\n",
    "University class and add and remove departments"
   ]
  },
  {
   "cell_type": "code",
   "execution_count": 15,
   "id": "25cdeb8a-7f44-4faa-a191-2b59154e18d7",
   "metadata": {},
   "outputs": [
    {
     "name": "stdout",
     "output_type": "stream",
     "text": [
      "Department 'Computer Science' added to Tech University.\n",
      "Department 'Mechanical Engineering' added to Tech University.\n",
      "Department 'Electrical Engineering' added to Tech University.\n",
      "Departments in Tech University:\n",
      "- Computer Science\n",
      "- Mechanical Engineering\n",
      "- Electrical Engineering\n",
      "Department 'Mechanical Engineering' removed from Tech University.\n",
      "Departments in Tech University:\n",
      "- Computer Science\n",
      "- Electrical Engineering\n",
      "Department 'Civil Engineering' does not exist in Tech University.\n"
     ]
    }
   ],
   "source": [
    "class University:\n",
    "    def __init__(self, name):\n",
    "        self.name = name  \n",
    "        self.departments = [] \n",
    "    def add_department(self, department_name):\n",
    "        \"\"\"Method to add a department to the university.\"\"\"\n",
    "        if department_name not in self.departments:\n",
    "            self.departments.append(department_name)\n",
    "            print(f\"Department '{department_name}' added to {self.name}.\")\n",
    "        else:\n",
    "            print(f\"Department '{department_name}' already exists in {self.name}.\")\n",
    "    def remove_department(self, department_name):\n",
    "        \"\"\"Method to remove a department from the university.\"\"\"\n",
    "        if department_name in self.departments:\n",
    "            self.departments.remove(department_name)\n",
    "            print(f\"Department '{department_name}' removed from {self.name}.\")\n",
    "        else:\n",
    "            print(f\"Department '{department_name}' does not exist in {self.name}.\")\n",
    "    def display_departments(self):\n",
    "        \"\"\"Method to display all departments in the university.\"\"\"\n",
    "        if self.departments:\n",
    "            print(f\"Departments in {self.name}:\")\n",
    "            for department in self.departments:\n",
    "                print(f\"- {department}\")\n",
    "        else:\n",
    "            print(f\"No departments available in {self.name}.\")\n",
    "my_university = University(\"Tech University\")\n",
    "my_university.add_department(\"Computer Science\")\n",
    "my_university.add_department(\"Mechanical Engineering\")\n",
    "my_university.add_department(\"Electrical Engineering\")\n",
    "my_university.display_departments()\n",
    "my_university.remove_department(\"Mechanical Engineering\")\n",
    "my_university.display_departments()\n",
    "my_university.remove_department(\"Civil Engineering\")"
   ]
  }
 ],
 "metadata": {
  "kernelspec": {
   "display_name": "Python 3 (ipykernel)",
   "language": "python",
   "name": "python3"
  },
  "language_info": {
   "codemirror_mode": {
    "name": "ipython",
    "version": 3
   },
   "file_extension": ".py",
   "mimetype": "text/x-python",
   "name": "python",
   "nbconvert_exporter": "python",
   "pygments_lexer": "ipython3",
   "version": "3.12.7"
  }
 },
 "nbformat": 4,
 "nbformat_minor": 5
}
